{
 "cells": [
  {
   "cell_type": "code",
   "execution_count": 41,
   "metadata": {},
   "outputs": [],
   "source": [
    "import sqlite3\n",
    "import pandas as pd\n",
    "import paramiko\n",
    "import os"
   ]
  },
  {
   "cell_type": "markdown",
   "metadata": {},
   "source": [
    "# IMPORTS"
   ]
  },
  {
   "cell_type": "markdown",
   "metadata": {},
   "source": [
    "# Configuración del SFTP"
   ]
  },
  {
   "cell_type": "code",
   "execution_count": 43,
   "metadata": {},
   "outputs": [
    {
     "name": "stdout",
     "output_type": "stream",
     "text": [
      "C:/Users/alarc/Desktop/DataMining/ETL/reporte_consolidado-2024-11-27-10_28.csv\n"
     ]
    }
   ],
   "source": [
    "import os\n",
    "from dotenv import load_dotenv\n",
    "import pandas as pd\n",
    "\n",
    "# Load environment variables from .env file\n",
    "load_dotenv()\n",
    "\n",
    "# Get variables from environment\n",
    "SFTP_HOST = os.getenv('SFTP_HOST')\n",
    "SFTP_PORT = int(os.getenv('SFTP_PORT'))\n",
    "SFTP_USER = os.getenv('SFTP_USER')\n",
    "SFTP_PRIVATE_KEY = os.getenv('SFTP_PRIVATE_KEY')\n",
    "RUTA = os.getenv('RUTA')\n",
    "\n",
    "# Generate file name and paths\n",
    "time = pd.Timestamp.now()\n",
    "file = 'reporte_consolidado-' + time.strftime('%Y-%m-%d-%H_%M') + '.csv'\n",
    "\n",
    "LOCAL_PATH = RUTA + file\n",
    "print(LOCAL_PATH)\n",
    "\n",
    "REMOTE_PATH = '/data/sftp/reporte_consolidado-' + file"
   ]
  },
  {
   "cell_type": "markdown",
   "metadata": {},
   "source": [
    "# Proceso ETL"
   ]
  },
  {
   "cell_type": "code",
   "execution_count": 29,
   "metadata": {},
   "outputs": [
    {
     "name": "stdout",
     "output_type": "stream",
     "text": [
      "== Paso 1: Extracción de datos ==\n"
     ]
    }
   ],
   "source": [
    "print(\"== Paso 1: Extracción de datos ==\")\n",
    "\n",
    "# Conectar a SQLite y extraer datos\n",
    "db_path = 'comercio_ventas.db'\n",
    "conn = sqlite3.connect(db_path)"
   ]
  },
  {
   "cell_type": "markdown",
   "metadata": {},
   "source": [
    "# Extracción de datos de SQLite"
   ]
  },
  {
   "cell_type": "code",
   "execution_count": 30,
   "metadata": {},
   "outputs": [],
   "source": [
    "comercio_df = pd.read_sql_query(\"SELECT * FROM Comercio\", conn)\n",
    "producto_df = pd.read_sql_query(\"SELECT * FROM Producto\", conn)\n",
    "transaccion_df = pd.read_sql_query(\"SELECT * FROM Transaccion\", conn)\n",
    "detalle_transaccion_df = pd.read_sql_query(\"SELECT * FROM Detalle_Transaccion\", conn)\n",
    "\n",
    "# Cerrar la conexión a la base de datos\n",
    "conn.close()"
   ]
  },
  {
   "cell_type": "markdown",
   "metadata": {},
   "source": [
    "# Imprimir los encabezados para verificar los datos extraídos"
   ]
  },
  {
   "cell_type": "code",
   "execution_count": 31,
   "metadata": {},
   "outputs": [
    {
     "name": "stdout",
     "output_type": "stream",
     "text": [
      "Encabezados de Comercio:\n",
      "   id_comercio        RUC codigo_comercio nombre_comercio    direccion  \\\n",
      "0            1  205500001            C001      Comercio 1  Dirección X   \n",
      "1            2  205500002            C002      Comercio 2  Dirección X   \n",
      "2            3  205500003            C003      Comercio 3  Dirección X   \n",
      "3            4  205500004            C004      Comercio 4  Dirección X   \n",
      "4            5  205500005            C005      Comercio 5  Dirección X   \n",
      "\n",
      "    telefono                email fecha_registro ciudad    distrito provincia  \\\n",
      "0  999999999  correo1@example.com     2024-11-14   Lima  San Isidro      Lima   \n",
      "1  999999999  correo2@example.com     2024-11-14   Lima  San Isidro      Lima   \n",
      "2  999999999  correo3@example.com     2024-11-14   Lima  San Isidro      Lima   \n",
      "3  999999999  correo4@example.com     2024-11-14   Lima  San Isidro      Lima   \n",
      "4  999999999  correo5@example.com     2024-11-14   Lima  San Isidro      Lima   \n",
      "\n",
      "  departamento tipo_comercio     sector  ingresos_anuales fecha_apertura  \\\n",
      "0         Lima     Minorista  Alimentos         132322.03     2015-01-01   \n",
      "1         Lima     Minorista  Alimentos         140414.51     2015-01-01   \n",
      "2         Lima     Minorista  Alimentos         177087.76     2015-01-01   \n",
      "3         Lima     Minorista  Alimentos         146884.12     2015-01-01   \n",
      "4         Lima     Minorista  Alimentos          94630.19     2015-01-01   \n",
      "\n",
      "   numero_empleados frecuencia_transacciones nivel_lealtad  \n",
      "0                10                  Mensual         Plata  \n",
      "1                13                  Mensual         Plata  \n",
      "2                29                  Mensual         Plata  \n",
      "3                46                  Mensual         Plata  \n",
      "4                34                  Mensual         Plata   \n",
      "\n",
      "Encabezados de Producto:\n",
      "   id_producto  id_comercio nombre_producto    categoria  precio_unitario\n",
      "0            1            1      Producto A  Categoría X            96.73\n",
      "1            2            5      Producto B  Categoría X            44.51\n",
      "2            3            3      Producto C  Categoría X            81.26\n",
      "3            4            4      Producto D  Categoría X            57.60\n",
      "4            5            2      Producto E  Categoría X            61.12 \n",
      "\n",
      "Encabezados de Transacción:\n",
      "   id_transaccion  id_comercio           fecha_transaccion tipo_operacion  \\\n",
      "0               1            1  2024-10-05 00:26:43.323858          Venta   \n",
      "1               2            2  2024-07-02 00:26:43.337182          Venta   \n",
      "2               3            5  2024-05-30 00:26:43.337182          Venta   \n",
      "3               4            2  2023-12-14 00:26:43.337182          Venta   \n",
      "4               5            1  2024-02-10 00:26:43.337182          Venta   \n",
      "\n",
      "  id_operacion      estado   monto moneda  id_producto motivo_venta_observada  \\\n",
      "0     OP000001  Completado   55.23  Soles            7      Sin observaciones   \n",
      "1     OP000002  Completado   26.80  Soles            5                          \n",
      "2     OP000003   Rechazado  165.60  Soles            5                          \n",
      "3     OP000004  Completado   87.75  Soles            5                          \n",
      "4     OP000005   Rechazado  183.13  Soles            7              Observado   \n",
      "\n",
      "   ... origen_tarjeta tipo_tarjeta marca_tarjeta tipo_captura  banco_emisor  \\\n",
      "0  ...  Internacional      Crédito    MasterCard           QR     Interbank   \n",
      "1  ...  Internacional      Crédito          Visa           QR          BBVA   \n",
      "2  ...       Nacional       Débito    MasterCard           QR           BCP   \n",
      "3  ...  Internacional       Débito          Visa           QR     Interbank   \n",
      "4  ...  Internacional       Débito    MasterCard    Magstripe     Interbank   \n",
      "\n",
      "  numero_cuenta banco_pagador numero_cuotas transaccion_cuotas_sin_interes  \\\n",
      "0    1695364423           BCP             8                             SI   \n",
      "1    3459135248          BBVA             5                             SI   \n",
      "2    9951217178     Interbank             6                             SI   \n",
      "3    8414083139          BBVA             0                             NO   \n",
      "4    5679582864    Scotiabank             4                             SI   \n",
      "\n",
      "    nombre_programa  \n",
      "0       Paga Rápido  \n",
      "1       Paga Rápido  \n",
      "2       Paga Rápido  \n",
      "3  Cashback Program  \n",
      "4                    \n",
      "\n",
      "[5 rows x 27 columns] \n",
      "\n",
      "Encabezados de Detalle Transacción:\n",
      "   id_detalle_transaccion  id_transaccion  importe_descuento cashback  \\\n",
      "0                       1               1               1.67       NO   \n",
      "1                       2               2              13.29       SI   \n",
      "2                       3               3               7.02       SI   \n",
      "3                       4               4              13.02       SI   \n",
      "4                       5               5              13.99       SI   \n",
      "\n",
      "   monto_cashback  comision_cuota_sin_interes paga_rapido  qr  importe_propina  \n",
      "0            8.60                        1.37          NO  SI            14.80  \n",
      "1            4.73                        4.10          NO  SI            10.73  \n",
      "2            5.31                        2.40          SI  SI             8.66  \n",
      "3            5.47                        2.00          SI  SI             8.06  \n",
      "4            8.77                        3.14          NO  NO             5.73   \n",
      "\n"
     ]
    }
   ],
   "source": [
    "print(\"Encabezados de Comercio:\")\n",
    "print(comercio_df.head(), \"\\n\")\n",
    "\n",
    "print(\"Encabezados de Producto:\")\n",
    "print(producto_df.head(), \"\\n\")\n",
    "\n",
    "print(\"Encabezados de Transacción:\")\n",
    "print(transaccion_df.head(), \"\\n\")\n",
    "\n",
    "print(\"Encabezados de Detalle Transacción:\")\n",
    "print(detalle_transaccion_df.head(), \"\\n\")"
   ]
  },
  {
   "cell_type": "markdown",
   "metadata": {},
   "source": [
    "# Extracción de datos externos (archivos CSV)"
   ]
  },
  {
   "cell_type": "code",
   "execution_count": 32,
   "metadata": {},
   "outputs": [
    {
     "name": "stdout",
     "output_type": "stream",
     "text": [
      "Encabezados de Tarifas Bancarias:\n",
      "        banco tipo_tarjeta  comision\n",
      "0         BCP       Débito     0.015\n",
      "1         BCP      Crédito     0.020\n",
      "2   Interbank       Débito     0.012\n",
      "3   Interbank      Crédito     0.018\n",
      "4  Scotiabank       Débito     0.014 \n",
      "\n",
      "Encabezados de Días Festivos:\n",
      "        fecha              descripcion\n",
      "0  2024-01-01                Año Nuevo\n",
      "1  2024-04-18             Jueves Santo\n",
      "2  2024-04-19            Viernes Santo\n",
      "3  2024-05-01          Día del Trabajo\n",
      "4  2024-07-28  Día de la Independencia \n",
      "\n"
     ]
    }
   ],
   "source": [
    "tarifas_bancarias = pd.read_csv('tarifas_bancarias.csv')  # Contiene banco, tipo_tarjeta y comisión\n",
    "dias_festivos = pd.read_csv('dias_festivos.csv')  # Contiene fecha y descripción del día festivo\n",
    "\n",
    "# Imprimir encabezados de archivos CSV\n",
    "print(\"Encabezados de Tarifas Bancarias:\")\n",
    "print(tarifas_bancarias.head(), \"\\n\")\n",
    "\n",
    "print(\"Encabezados de Días Festivos:\")\n",
    "print(dias_festivos.head(), \"\\n\")\n"
   ]
  },
  {
   "cell_type": "markdown",
   "metadata": {},
   "source": [
    "# Paso 2: Transformación de datos"
   ]
  },
  {
   "cell_type": "code",
   "execution_count": 33,
   "metadata": {},
   "outputs": [
    {
     "name": "stdout",
     "output_type": "stream",
     "text": [
      "== Paso 2: Transformación de datos ==\n",
      "Encabezados después de unir Transacción y Detalle:\n",
      "   id_transaccion  id_comercio_comercio           fecha_transaccion  \\\n",
      "0               1                     1  2024-10-05 00:26:43.323858   \n",
      "1               1                     1  2024-10-05 00:26:43.323858   \n",
      "2               2                     2  2024-07-02 00:26:43.337182   \n",
      "3               2                     2  2024-07-02 00:26:43.337182   \n",
      "4               3                     5  2024-05-30 00:26:43.337182   \n",
      "\n",
      "  tipo_operacion id_operacion      estado   monto moneda  id_producto  \\\n",
      "0          Venta     OP000001  Completado   55.23  Soles            7   \n",
      "1          Venta     OP000001  Completado   55.23  Soles            7   \n",
      "2          Venta     OP000002  Completado   26.80  Soles            5   \n",
      "3          Venta     OP000002  Completado   26.80  Soles            5   \n",
      "4          Venta     OP000003   Rechazado  165.60  Soles            5   \n",
      "\n",
      "  motivo_venta_observada  ...     sector ingresos_anuales fecha_apertura  \\\n",
      "0      Sin observaciones  ...  Alimentos        132322.03     2015-01-01   \n",
      "1      Sin observaciones  ...  Alimentos        132322.03     2015-01-01   \n",
      "2                         ...  Alimentos        140414.51     2015-01-01   \n",
      "3                         ...  Alimentos        140414.51     2015-01-01   \n",
      "4                         ...  Alimentos         94630.19     2015-01-01   \n",
      "\n",
      "  numero_empleados  frecuencia_transacciones nivel_lealtad  \\\n",
      "0               10                   Mensual         Plata   \n",
      "1               10                   Mensual         Plata   \n",
      "2               13                   Mensual         Plata   \n",
      "3               13                   Mensual         Plata   \n",
      "4               34                   Mensual         Plata   \n",
      "\n",
      "  id_comercio_producto nombre_producto    categoria precio_unitario  \n",
      "0                    1      Producto G  Categoría X           16.39  \n",
      "1                    1      Producto G  Categoría X           16.39  \n",
      "2                    2      Producto E  Categoría X           61.12  \n",
      "3                    2      Producto E  Categoría X           61.12  \n",
      "4                    2      Producto E  Categoría X           61.12  \n",
      "\n",
      "[5 rows x 57 columns] \n",
      "\n",
      "Encabezados después de agregar tarifas bancarias:\n",
      "   id_transaccion  id_comercio_comercio           fecha_transaccion  \\\n",
      "0               1                     1  2024-10-05 00:26:43.323858   \n",
      "1               1                     1  2024-10-05 00:26:43.323858   \n",
      "2               2                     2  2024-07-02 00:26:43.337182   \n",
      "3               2                     2  2024-07-02 00:26:43.337182   \n",
      "4               3                     5  2024-05-30 00:26:43.337182   \n",
      "\n",
      "  tipo_operacion id_operacion      estado   monto moneda  id_producto  \\\n",
      "0          Venta     OP000001  Completado   55.23  Soles            7   \n",
      "1          Venta     OP000001  Completado   55.23  Soles            7   \n",
      "2          Venta     OP000002  Completado   26.80  Soles            5   \n",
      "3          Venta     OP000002  Completado   26.80  Soles            5   \n",
      "4          Venta     OP000003   Rechazado  165.60  Soles            5   \n",
      "\n",
      "  motivo_venta_observada  ... fecha_apertura numero_empleados  \\\n",
      "0      Sin observaciones  ...     2015-01-01               10   \n",
      "1      Sin observaciones  ...     2015-01-01               10   \n",
      "2                         ...     2015-01-01               13   \n",
      "3                         ...     2015-01-01               13   \n",
      "4                         ...     2015-01-01               34   \n",
      "\n",
      "  frecuencia_transacciones nivel_lealtad  id_comercio_producto  \\\n",
      "0                  Mensual         Plata                     1   \n",
      "1                  Mensual         Plata                     1   \n",
      "2                  Mensual         Plata                     2   \n",
      "3                  Mensual         Plata                     2   \n",
      "4                  Mensual         Plata                     2   \n",
      "\n",
      "  nombre_producto    categoria precio_unitario      banco comision  \n",
      "0      Producto G  Categoría X           16.39  Interbank    0.018  \n",
      "1      Producto G  Categoría X           16.39  Interbank    0.018  \n",
      "2      Producto E  Categoría X           61.12       BBVA    0.017  \n",
      "3      Producto E  Categoría X           61.12       BBVA    0.017  \n",
      "4      Producto E  Categoría X           61.12        BCP    0.015  \n",
      "\n",
      "[5 rows x 59 columns] \n",
      "\n"
     ]
    }
   ],
   "source": [
    "print(\"== Paso 2: Transformación de datos ==\")\n",
    "\n",
    "# 1. Unir tablas de SQLite\n",
    "transaccion_completa = pd.merge(transaccion_df, detalle_transaccion_df, left_on='id_transaccion', right_on='id_transaccion')\n",
    "transaccion_completa = pd.merge(transaccion_completa, comercio_df, left_on='id_comercio', right_on='id_comercio')\n",
    "transaccion_completa = pd.merge(transaccion_completa, producto_df, left_on='id_producto', right_on='id_producto', suffixes=('_comercio', '_producto'))\n",
    "\n",
    "# Imprimir encabezados después de la unión\n",
    "print(\"Encabezados después de unir Transacción y Detalle:\")\n",
    "print(transaccion_completa.head(), \"\\n\")\n",
    "\n",
    "# 2. Agregar información de tarifas bancarias\n",
    "transaccion_completa = pd.merge(\n",
    "    transaccion_completa, \n",
    "    tarifas_bancarias, \n",
    "    how='left', \n",
    "    left_on=['banco_emisor', 'tipo_tarjeta'], \n",
    "    right_on=['banco', 'tipo_tarjeta']\n",
    ")\n",
    "\n",
    "# Imprimir encabezados después de agregar tarifas bancarias\n",
    "print(\"Encabezados después de agregar tarifas bancarias:\")\n",
    "print(transaccion_completa.head(), \"\\n\")"
   ]
  },
  {
   "cell_type": "markdown",
   "metadata": {},
   "source": [
    "# 3. Agregar información de días festivos"
   ]
  },
  {
   "cell_type": "code",
   "execution_count": 34,
   "metadata": {},
   "outputs": [
    {
     "name": "stdout",
     "output_type": "stream",
     "text": [
      "Encabezados después de agregar días festivos:\n",
      "   id_transaccion  id_comercio_comercio          fecha_transaccion  \\\n",
      "0               1                     1 2024-10-05 00:26:43.323858   \n",
      "1               1                     1 2024-10-05 00:26:43.323858   \n",
      "2               2                     2 2024-07-02 00:26:43.337182   \n",
      "3               2                     2 2024-07-02 00:26:43.337182   \n",
      "4               3                     5 2024-05-30 00:26:43.337182   \n",
      "\n",
      "  tipo_operacion id_operacion      estado   monto moneda  id_producto  \\\n",
      "0          Venta     OP000001  Completado   55.23  Soles            7   \n",
      "1          Venta     OP000001  Completado   55.23  Soles            7   \n",
      "2          Venta     OP000002  Completado   26.80  Soles            5   \n",
      "3          Venta     OP000002  Completado   26.80  Soles            5   \n",
      "4          Venta     OP000003   Rechazado  165.60  Soles            5   \n",
      "\n",
      "  motivo_venta_observada  ... nivel_lealtad id_comercio_producto  \\\n",
      "0      Sin observaciones  ...         Plata                    1   \n",
      "1      Sin observaciones  ...         Plata                    1   \n",
      "2                         ...         Plata                    2   \n",
      "3                         ...         Plata                    2   \n",
      "4                         ...         Plata                    2   \n",
      "\n",
      "  nombre_producto    categoria  precio_unitario      banco comision fecha  \\\n",
      "0      Producto G  Categoría X            16.39  Interbank    0.018   NaT   \n",
      "1      Producto G  Categoría X            16.39  Interbank    0.018   NaT   \n",
      "2      Producto E  Categoría X            61.12       BBVA    0.017   NaT   \n",
      "3      Producto E  Categoría X            61.12       BBVA    0.017   NaT   \n",
      "4      Producto E  Categoría X            61.12        BCP    0.015   NaT   \n",
      "\n",
      "  descripcion es_dia_festivo  \n",
      "0         NaN          False  \n",
      "1         NaN          False  \n",
      "2         NaN          False  \n",
      "3         NaN          False  \n",
      "4         NaN          False  \n",
      "\n",
      "[5 rows x 62 columns] \n",
      "\n"
     ]
    }
   ],
   "source": [
    "transaccion_completa['fecha_transaccion'] = pd.to_datetime(transaccion_completa['fecha_transaccion'])\n",
    "dias_festivos['fecha'] = pd.to_datetime(dias_festivos['fecha'])\n",
    "transaccion_completa = pd.merge(\n",
    "    transaccion_completa, \n",
    "    dias_festivos, \n",
    "    how='left', \n",
    "    left_on='fecha_transaccion', \n",
    "    right_on='fecha'\n",
    ")\n",
    "transaccion_completa['es_dia_festivo'] = ~transaccion_completa['descripcion'].isna()\n",
    "\n",
    "# Imprimir encabezados después de agregar días festivos\n",
    "print(\"Encabezados después de agregar días festivos:\")\n",
    "print(transaccion_completa.head(), \"\\n\")"
   ]
  },
  {
   "cell_type": "markdown",
   "metadata": {},
   "source": [
    "# 4. Calcular comisiones bancarias aplicadas"
   ]
  },
  {
   "cell_type": "code",
   "execution_count": 35,
   "metadata": {},
   "outputs": [],
   "source": [
    "transaccion_completa['comision_aplicada'] = transaccion_completa['monto'] * transaccion_completa['comision']\n"
   ]
  },
  {
   "cell_type": "markdown",
   "metadata": {},
   "source": [
    "# 5. Agregar columnas adicionales"
   ]
  },
  {
   "cell_type": "code",
   "execution_count": 36,
   "metadata": {},
   "outputs": [
    {
     "name": "stdout",
     "output_type": "stream",
     "text": [
      "Encabezados después de cálculos adicionales:\n",
      "   id_transaccion  id_comercio_comercio          fecha_transaccion  \\\n",
      "0               1                     1 2024-10-05 00:26:43.323858   \n",
      "1               1                     1 2024-10-05 00:26:43.323858   \n",
      "2               2                     2 2024-07-02 00:26:43.337182   \n",
      "3               2                     2 2024-07-02 00:26:43.337182   \n",
      "4               3                     5 2024-05-30 00:26:43.337182   \n",
      "\n",
      "  tipo_operacion id_operacion      estado   monto moneda  id_producto  \\\n",
      "0          Venta     OP000001  Completado   55.23  Soles            7   \n",
      "1          Venta     OP000001  Completado   55.23  Soles            7   \n",
      "2          Venta     OP000002  Completado   26.80  Soles            5   \n",
      "3          Venta     OP000002  Completado   26.80  Soles            5   \n",
      "4          Venta     OP000003   Rechazado  165.60  Soles            5   \n",
      "\n",
      "  motivo_venta_observada  ... nombre_producto    categoria precio_unitario  \\\n",
      "0      Sin observaciones  ...      Producto G  Categoría X           16.39   \n",
      "1      Sin observaciones  ...      Producto G  Categoría X           16.39   \n",
      "2                         ...      Producto E  Categoría X           61.12   \n",
      "3                         ...      Producto E  Categoría X           61.12   \n",
      "4                         ...      Producto E  Categoría X           61.12   \n",
      "\n",
      "       banco  comision fecha descripcion es_dia_festivo comision_aplicada  \\\n",
      "0  Interbank     0.018   NaT         NaN          False           0.99414   \n",
      "1  Interbank     0.018   NaT         NaN          False           0.99414   \n",
      "2       BBVA     0.017   NaT         NaN          False           0.45560   \n",
      "3       BBVA     0.017   NaT         NaN          False           0.45560   \n",
      "4        BCP     0.015   NaT         NaN          False           2.48400   \n",
      "\n",
      "  DayOfMonth  \n",
      "0          5  \n",
      "1          5  \n",
      "2          2  \n",
      "3          2  \n",
      "4         30  \n",
      "\n",
      "[5 rows x 64 columns] \n",
      "\n",
      "== Paso 3: Carga de datos ==\n"
     ]
    },
    {
     "ename": "OSError",
     "evalue": "Cannot save file into a non-existent directory: 'c:\\Users\\alarc\\Desktop\\DataMining\\ETL\\venv\\Scripts;C:\\Users\\alarc\\Desktop\\DataMining\\ETL\\venv\\Scripts;C:\\Program Files\\NVIDIA GPU Computing Toolkit\\CUDA\\v12.6\\bin;C:\\Program Files\\NVIDIA GPU Computing Toolkit\\CUDA\\v12.6\\libnvvp;C:\\Program Files\\Common Files\\Oracle\\Java\\javapath;C:\\WINDOWS\\system32;C:\\WINDOWS;C:\\WINDOWS\\System32\\Wbem;C:\\WINDOWS\\System32\\WindowsPowerShell\\v1.0\\;C:\\WINDOWS\\System32\\OpenSSH\\;C:\\Program Files (x86)\\NVIDIA Corporation\\PhysX\\Common;C:\\Program Files\\Git\\cmd;C:\\Program Files\\nodejs\\;C:\\Program Files\\playit_gg\\bin\\;C:\\Program Files\\NVIDIA Corporation\\NVIDIA app\\NvDLISR;C:\\Program Files\\WireGuard\\;C:\\Program Files\\Docker\\Docker\\resources\\bin;C:\\Program Files\\dotnet\\;C:\\Program Files\\NVIDIA Corporation\\Nsight Compute 2024.3.2\\;C:\\Users\\alarc\\Documents\\github\\PWD\\Utils\\hashcat-6.2.6;C:\\Program Files\\PuTTY\\;C:\\Users\\alarc\\.console-ninja\\.bin;C:\\Users\\alarc\\AppData\\Local\\Microsoft\\WindowsApps;C:\\Users\\alarc\\AppData\\Local\\Programs\\Microsoft VS Code\\bin;C:\\Users\\alarc\\AppData\\Local\\GitHubDesktop\\bin;C:\\Users\\alarc\\AppData\\Local\\Microsoft\\WinGet\\Packages\\Schniz.fnm_Microsoft.Winget.Source_8wekyb3d8bbwe;C:\\Users\\alarc\\AppData\\Roaming\\npm;C:\\Users\\alarc\\AppData\\Local\\Programs\\oh-my-posh\\bin;C:\\Users\\alarc\\.dotnet'",
     "output_type": "error",
     "traceback": [
      "\u001b[1;31m---------------------------------------------------------------------------\u001b[0m",
      "\u001b[1;31mOSError\u001b[0m                                   Traceback (most recent call last)",
      "Cell \u001b[1;32mIn[36], line 11\u001b[0m\n\u001b[0;32m      8\u001b[0m \u001b[38;5;28mprint\u001b[39m(\u001b[38;5;124m\"\u001b[39m\u001b[38;5;124m== Paso 3: Carga de datos ==\u001b[39m\u001b[38;5;124m\"\u001b[39m)\n\u001b[0;32m     10\u001b[0m \u001b[38;5;66;03m# Guardar el resultado consolidado\u001b[39;00m\n\u001b[1;32m---> 11\u001b[0m \u001b[43mtransaccion_completa\u001b[49m\u001b[38;5;241;43m.\u001b[39;49m\u001b[43mto_csv\u001b[49m\u001b[43m(\u001b[49m\u001b[43mLOCAL_PATH\u001b[49m\u001b[43m,\u001b[49m\u001b[43m \u001b[49m\u001b[43mindex\u001b[49m\u001b[38;5;241;43m=\u001b[39;49m\u001b[38;5;28;43;01mFalse\u001b[39;49;00m\u001b[43m)\u001b[49m\n\u001b[0;32m     12\u001b[0m \u001b[38;5;28mprint\u001b[39m(\u001b[38;5;124mf\u001b[39m\u001b[38;5;124m\"\u001b[39m\u001b[38;5;124mArchivo consolidado guardado localmente como \u001b[39m\u001b[38;5;132;01m{\u001b[39;00mLOCAL_PATH\u001b[38;5;132;01m}\u001b[39;00m\u001b[38;5;124m.\u001b[39m\u001b[38;5;130;01m\\n\u001b[39;00m\u001b[38;5;124m\"\u001b[39m)\n\u001b[0;32m     14\u001b[0m \u001b[38;5;66;03m# Subir el archivo al servidor SFTP\u001b[39;00m\n",
      "File \u001b[1;32mc:\\Users\\alarc\\Desktop\\DataMining\\ETL\\venv\\Lib\\site-packages\\pandas\\util\\_decorators.py:333\u001b[0m, in \u001b[0;36mdeprecate_nonkeyword_arguments.<locals>.decorate.<locals>.wrapper\u001b[1;34m(*args, **kwargs)\u001b[0m\n\u001b[0;32m    327\u001b[0m \u001b[38;5;28;01mif\u001b[39;00m \u001b[38;5;28mlen\u001b[39m(args) \u001b[38;5;241m>\u001b[39m num_allow_args:\n\u001b[0;32m    328\u001b[0m     warnings\u001b[38;5;241m.\u001b[39mwarn(\n\u001b[0;32m    329\u001b[0m         msg\u001b[38;5;241m.\u001b[39mformat(arguments\u001b[38;5;241m=\u001b[39m_format_argument_list(allow_args)),\n\u001b[0;32m    330\u001b[0m         \u001b[38;5;167;01mFutureWarning\u001b[39;00m,\n\u001b[0;32m    331\u001b[0m         stacklevel\u001b[38;5;241m=\u001b[39mfind_stack_level(),\n\u001b[0;32m    332\u001b[0m     )\n\u001b[1;32m--> 333\u001b[0m \u001b[38;5;28;01mreturn\u001b[39;00m \u001b[43mfunc\u001b[49m\u001b[43m(\u001b[49m\u001b[38;5;241;43m*\u001b[39;49m\u001b[43margs\u001b[49m\u001b[43m,\u001b[49m\u001b[43m \u001b[49m\u001b[38;5;241;43m*\u001b[39;49m\u001b[38;5;241;43m*\u001b[39;49m\u001b[43mkwargs\u001b[49m\u001b[43m)\u001b[49m\n",
      "File \u001b[1;32mc:\\Users\\alarc\\Desktop\\DataMining\\ETL\\venv\\Lib\\site-packages\\pandas\\core\\generic.py:3967\u001b[0m, in \u001b[0;36mNDFrame.to_csv\u001b[1;34m(self, path_or_buf, sep, na_rep, float_format, columns, header, index, index_label, mode, encoding, compression, quoting, quotechar, lineterminator, chunksize, date_format, doublequote, escapechar, decimal, errors, storage_options)\u001b[0m\n\u001b[0;32m   3956\u001b[0m df \u001b[38;5;241m=\u001b[39m \u001b[38;5;28mself\u001b[39m \u001b[38;5;28;01mif\u001b[39;00m \u001b[38;5;28misinstance\u001b[39m(\u001b[38;5;28mself\u001b[39m, ABCDataFrame) \u001b[38;5;28;01melse\u001b[39;00m \u001b[38;5;28mself\u001b[39m\u001b[38;5;241m.\u001b[39mto_frame()\n\u001b[0;32m   3958\u001b[0m formatter \u001b[38;5;241m=\u001b[39m DataFrameFormatter(\n\u001b[0;32m   3959\u001b[0m     frame\u001b[38;5;241m=\u001b[39mdf,\n\u001b[0;32m   3960\u001b[0m     header\u001b[38;5;241m=\u001b[39mheader,\n\u001b[1;32m   (...)\u001b[0m\n\u001b[0;32m   3964\u001b[0m     decimal\u001b[38;5;241m=\u001b[39mdecimal,\n\u001b[0;32m   3965\u001b[0m )\n\u001b[1;32m-> 3967\u001b[0m \u001b[38;5;28;01mreturn\u001b[39;00m \u001b[43mDataFrameRenderer\u001b[49m\u001b[43m(\u001b[49m\u001b[43mformatter\u001b[49m\u001b[43m)\u001b[49m\u001b[38;5;241;43m.\u001b[39;49m\u001b[43mto_csv\u001b[49m\u001b[43m(\u001b[49m\n\u001b[0;32m   3968\u001b[0m \u001b[43m    \u001b[49m\u001b[43mpath_or_buf\u001b[49m\u001b[43m,\u001b[49m\n\u001b[0;32m   3969\u001b[0m \u001b[43m    \u001b[49m\u001b[43mlineterminator\u001b[49m\u001b[38;5;241;43m=\u001b[39;49m\u001b[43mlineterminator\u001b[49m\u001b[43m,\u001b[49m\n\u001b[0;32m   3970\u001b[0m \u001b[43m    \u001b[49m\u001b[43msep\u001b[49m\u001b[38;5;241;43m=\u001b[39;49m\u001b[43msep\u001b[49m\u001b[43m,\u001b[49m\n\u001b[0;32m   3971\u001b[0m \u001b[43m    \u001b[49m\u001b[43mencoding\u001b[49m\u001b[38;5;241;43m=\u001b[39;49m\u001b[43mencoding\u001b[49m\u001b[43m,\u001b[49m\n\u001b[0;32m   3972\u001b[0m \u001b[43m    \u001b[49m\u001b[43merrors\u001b[49m\u001b[38;5;241;43m=\u001b[39;49m\u001b[43merrors\u001b[49m\u001b[43m,\u001b[49m\n\u001b[0;32m   3973\u001b[0m \u001b[43m    \u001b[49m\u001b[43mcompression\u001b[49m\u001b[38;5;241;43m=\u001b[39;49m\u001b[43mcompression\u001b[49m\u001b[43m,\u001b[49m\n\u001b[0;32m   3974\u001b[0m \u001b[43m    \u001b[49m\u001b[43mquoting\u001b[49m\u001b[38;5;241;43m=\u001b[39;49m\u001b[43mquoting\u001b[49m\u001b[43m,\u001b[49m\n\u001b[0;32m   3975\u001b[0m \u001b[43m    \u001b[49m\u001b[43mcolumns\u001b[49m\u001b[38;5;241;43m=\u001b[39;49m\u001b[43mcolumns\u001b[49m\u001b[43m,\u001b[49m\n\u001b[0;32m   3976\u001b[0m \u001b[43m    \u001b[49m\u001b[43mindex_label\u001b[49m\u001b[38;5;241;43m=\u001b[39;49m\u001b[43mindex_label\u001b[49m\u001b[43m,\u001b[49m\n\u001b[0;32m   3977\u001b[0m \u001b[43m    \u001b[49m\u001b[43mmode\u001b[49m\u001b[38;5;241;43m=\u001b[39;49m\u001b[43mmode\u001b[49m\u001b[43m,\u001b[49m\n\u001b[0;32m   3978\u001b[0m \u001b[43m    \u001b[49m\u001b[43mchunksize\u001b[49m\u001b[38;5;241;43m=\u001b[39;49m\u001b[43mchunksize\u001b[49m\u001b[43m,\u001b[49m\n\u001b[0;32m   3979\u001b[0m \u001b[43m    \u001b[49m\u001b[43mquotechar\u001b[49m\u001b[38;5;241;43m=\u001b[39;49m\u001b[43mquotechar\u001b[49m\u001b[43m,\u001b[49m\n\u001b[0;32m   3980\u001b[0m \u001b[43m    \u001b[49m\u001b[43mdate_format\u001b[49m\u001b[38;5;241;43m=\u001b[39;49m\u001b[43mdate_format\u001b[49m\u001b[43m,\u001b[49m\n\u001b[0;32m   3981\u001b[0m \u001b[43m    \u001b[49m\u001b[43mdoublequote\u001b[49m\u001b[38;5;241;43m=\u001b[39;49m\u001b[43mdoublequote\u001b[49m\u001b[43m,\u001b[49m\n\u001b[0;32m   3982\u001b[0m \u001b[43m    \u001b[49m\u001b[43mescapechar\u001b[49m\u001b[38;5;241;43m=\u001b[39;49m\u001b[43mescapechar\u001b[49m\u001b[43m,\u001b[49m\n\u001b[0;32m   3983\u001b[0m \u001b[43m    \u001b[49m\u001b[43mstorage_options\u001b[49m\u001b[38;5;241;43m=\u001b[39;49m\u001b[43mstorage_options\u001b[49m\u001b[43m,\u001b[49m\n\u001b[0;32m   3984\u001b[0m \u001b[43m\u001b[49m\u001b[43m)\u001b[49m\n",
      "File \u001b[1;32mc:\\Users\\alarc\\Desktop\\DataMining\\ETL\\venv\\Lib\\site-packages\\pandas\\io\\formats\\format.py:1014\u001b[0m, in \u001b[0;36mDataFrameRenderer.to_csv\u001b[1;34m(self, path_or_buf, encoding, sep, columns, index_label, mode, compression, quoting, quotechar, lineterminator, chunksize, date_format, doublequote, escapechar, errors, storage_options)\u001b[0m\n\u001b[0;32m    993\u001b[0m     created_buffer \u001b[38;5;241m=\u001b[39m \u001b[38;5;28;01mFalse\u001b[39;00m\n\u001b[0;32m    995\u001b[0m csv_formatter \u001b[38;5;241m=\u001b[39m CSVFormatter(\n\u001b[0;32m    996\u001b[0m     path_or_buf\u001b[38;5;241m=\u001b[39mpath_or_buf,\n\u001b[0;32m    997\u001b[0m     lineterminator\u001b[38;5;241m=\u001b[39mlineterminator,\n\u001b[1;32m   (...)\u001b[0m\n\u001b[0;32m   1012\u001b[0m     formatter\u001b[38;5;241m=\u001b[39m\u001b[38;5;28mself\u001b[39m\u001b[38;5;241m.\u001b[39mfmt,\n\u001b[0;32m   1013\u001b[0m )\n\u001b[1;32m-> 1014\u001b[0m \u001b[43mcsv_formatter\u001b[49m\u001b[38;5;241;43m.\u001b[39;49m\u001b[43msave\u001b[49m\u001b[43m(\u001b[49m\u001b[43m)\u001b[49m\n\u001b[0;32m   1016\u001b[0m \u001b[38;5;28;01mif\u001b[39;00m created_buffer:\n\u001b[0;32m   1017\u001b[0m     \u001b[38;5;28;01massert\u001b[39;00m \u001b[38;5;28misinstance\u001b[39m(path_or_buf, StringIO)\n",
      "File \u001b[1;32mc:\\Users\\alarc\\Desktop\\DataMining\\ETL\\venv\\Lib\\site-packages\\pandas\\io\\formats\\csvs.py:251\u001b[0m, in \u001b[0;36mCSVFormatter.save\u001b[1;34m(self)\u001b[0m\n\u001b[0;32m    247\u001b[0m \u001b[38;5;250m\u001b[39m\u001b[38;5;124;03m\"\"\"\u001b[39;00m\n\u001b[0;32m    248\u001b[0m \u001b[38;5;124;03mCreate the writer & save.\u001b[39;00m\n\u001b[0;32m    249\u001b[0m \u001b[38;5;124;03m\"\"\"\u001b[39;00m\n\u001b[0;32m    250\u001b[0m \u001b[38;5;66;03m# apply compression and byte/text conversion\u001b[39;00m\n\u001b[1;32m--> 251\u001b[0m \u001b[38;5;28;01mwith\u001b[39;00m \u001b[43mget_handle\u001b[49m\u001b[43m(\u001b[49m\n\u001b[0;32m    252\u001b[0m \u001b[43m    \u001b[49m\u001b[38;5;28;43mself\u001b[39;49m\u001b[38;5;241;43m.\u001b[39;49m\u001b[43mfilepath_or_buffer\u001b[49m\u001b[43m,\u001b[49m\n\u001b[0;32m    253\u001b[0m \u001b[43m    \u001b[49m\u001b[38;5;28;43mself\u001b[39;49m\u001b[38;5;241;43m.\u001b[39;49m\u001b[43mmode\u001b[49m\u001b[43m,\u001b[49m\n\u001b[0;32m    254\u001b[0m \u001b[43m    \u001b[49m\u001b[43mencoding\u001b[49m\u001b[38;5;241;43m=\u001b[39;49m\u001b[38;5;28;43mself\u001b[39;49m\u001b[38;5;241;43m.\u001b[39;49m\u001b[43mencoding\u001b[49m\u001b[43m,\u001b[49m\n\u001b[0;32m    255\u001b[0m \u001b[43m    \u001b[49m\u001b[43merrors\u001b[49m\u001b[38;5;241;43m=\u001b[39;49m\u001b[38;5;28;43mself\u001b[39;49m\u001b[38;5;241;43m.\u001b[39;49m\u001b[43merrors\u001b[49m\u001b[43m,\u001b[49m\n\u001b[0;32m    256\u001b[0m \u001b[43m    \u001b[49m\u001b[43mcompression\u001b[49m\u001b[38;5;241;43m=\u001b[39;49m\u001b[38;5;28;43mself\u001b[39;49m\u001b[38;5;241;43m.\u001b[39;49m\u001b[43mcompression\u001b[49m\u001b[43m,\u001b[49m\n\u001b[0;32m    257\u001b[0m \u001b[43m    \u001b[49m\u001b[43mstorage_options\u001b[49m\u001b[38;5;241;43m=\u001b[39;49m\u001b[38;5;28;43mself\u001b[39;49m\u001b[38;5;241;43m.\u001b[39;49m\u001b[43mstorage_options\u001b[49m\u001b[43m,\u001b[49m\n\u001b[0;32m    258\u001b[0m \u001b[43m\u001b[49m\u001b[43m)\u001b[49m \u001b[38;5;28;01mas\u001b[39;00m handles:\n\u001b[0;32m    259\u001b[0m     \u001b[38;5;66;03m# Note: self.encoding is irrelevant here\u001b[39;00m\n\u001b[0;32m    260\u001b[0m     \u001b[38;5;28mself\u001b[39m\u001b[38;5;241m.\u001b[39mwriter \u001b[38;5;241m=\u001b[39m csvlib\u001b[38;5;241m.\u001b[39mwriter(\n\u001b[0;32m    261\u001b[0m         handles\u001b[38;5;241m.\u001b[39mhandle,\n\u001b[0;32m    262\u001b[0m         lineterminator\u001b[38;5;241m=\u001b[39m\u001b[38;5;28mself\u001b[39m\u001b[38;5;241m.\u001b[39mlineterminator,\n\u001b[1;32m   (...)\u001b[0m\n\u001b[0;32m    267\u001b[0m         quotechar\u001b[38;5;241m=\u001b[39m\u001b[38;5;28mself\u001b[39m\u001b[38;5;241m.\u001b[39mquotechar,\n\u001b[0;32m    268\u001b[0m     )\n\u001b[0;32m    270\u001b[0m     \u001b[38;5;28mself\u001b[39m\u001b[38;5;241m.\u001b[39m_save()\n",
      "File \u001b[1;32mc:\\Users\\alarc\\Desktop\\DataMining\\ETL\\venv\\Lib\\site-packages\\pandas\\io\\common.py:749\u001b[0m, in \u001b[0;36mget_handle\u001b[1;34m(path_or_buf, mode, encoding, compression, memory_map, is_text, errors, storage_options)\u001b[0m\n\u001b[0;32m    747\u001b[0m \u001b[38;5;66;03m# Only for write methods\u001b[39;00m\n\u001b[0;32m    748\u001b[0m \u001b[38;5;28;01mif\u001b[39;00m \u001b[38;5;124m\"\u001b[39m\u001b[38;5;124mr\u001b[39m\u001b[38;5;124m\"\u001b[39m \u001b[38;5;129;01mnot\u001b[39;00m \u001b[38;5;129;01min\u001b[39;00m mode \u001b[38;5;129;01mand\u001b[39;00m is_path:\n\u001b[1;32m--> 749\u001b[0m     \u001b[43mcheck_parent_directory\u001b[49m\u001b[43m(\u001b[49m\u001b[38;5;28;43mstr\u001b[39;49m\u001b[43m(\u001b[49m\u001b[43mhandle\u001b[49m\u001b[43m)\u001b[49m\u001b[43m)\u001b[49m\n\u001b[0;32m    751\u001b[0m \u001b[38;5;28;01mif\u001b[39;00m compression:\n\u001b[0;32m    752\u001b[0m     \u001b[38;5;28;01mif\u001b[39;00m compression \u001b[38;5;241m!=\u001b[39m \u001b[38;5;124m\"\u001b[39m\u001b[38;5;124mzstd\u001b[39m\u001b[38;5;124m\"\u001b[39m:\n\u001b[0;32m    753\u001b[0m         \u001b[38;5;66;03m# compression libraries do not like an explicit text-mode\u001b[39;00m\n",
      "File \u001b[1;32mc:\\Users\\alarc\\Desktop\\DataMining\\ETL\\venv\\Lib\\site-packages\\pandas\\io\\common.py:616\u001b[0m, in \u001b[0;36mcheck_parent_directory\u001b[1;34m(path)\u001b[0m\n\u001b[0;32m    614\u001b[0m parent \u001b[38;5;241m=\u001b[39m Path(path)\u001b[38;5;241m.\u001b[39mparent\n\u001b[0;32m    615\u001b[0m \u001b[38;5;28;01mif\u001b[39;00m \u001b[38;5;129;01mnot\u001b[39;00m parent\u001b[38;5;241m.\u001b[39mis_dir():\n\u001b[1;32m--> 616\u001b[0m     \u001b[38;5;28;01mraise\u001b[39;00m \u001b[38;5;167;01mOSError\u001b[39;00m(\u001b[38;5;124mrf\u001b[39m\u001b[38;5;124m\"\u001b[39m\u001b[38;5;124mCannot save file into a non-existent directory: \u001b[39m\u001b[38;5;124m'\u001b[39m\u001b[38;5;132;01m{\u001b[39;00mparent\u001b[38;5;132;01m}\u001b[39;00m\u001b[38;5;124m'\u001b[39m\u001b[38;5;124m\"\u001b[39m)\n",
      "\u001b[1;31mOSError\u001b[0m: Cannot save file into a non-existent directory: 'c:\\Users\\alarc\\Desktop\\DataMining\\ETL\\venv\\Scripts;C:\\Users\\alarc\\Desktop\\DataMining\\ETL\\venv\\Scripts;C:\\Program Files\\NVIDIA GPU Computing Toolkit\\CUDA\\v12.6\\bin;C:\\Program Files\\NVIDIA GPU Computing Toolkit\\CUDA\\v12.6\\libnvvp;C:\\Program Files\\Common Files\\Oracle\\Java\\javapath;C:\\WINDOWS\\system32;C:\\WINDOWS;C:\\WINDOWS\\System32\\Wbem;C:\\WINDOWS\\System32\\WindowsPowerShell\\v1.0\\;C:\\WINDOWS\\System32\\OpenSSH\\;C:\\Program Files (x86)\\NVIDIA Corporation\\PhysX\\Common;C:\\Program Files\\Git\\cmd;C:\\Program Files\\nodejs\\;C:\\Program Files\\playit_gg\\bin\\;C:\\Program Files\\NVIDIA Corporation\\NVIDIA app\\NvDLISR;C:\\Program Files\\WireGuard\\;C:\\Program Files\\Docker\\Docker\\resources\\bin;C:\\Program Files\\dotnet\\;C:\\Program Files\\NVIDIA Corporation\\Nsight Compute 2024.3.2\\;C:\\Users\\alarc\\Documents\\github\\PWD\\Utils\\hashcat-6.2.6;C:\\Program Files\\PuTTY\\;C:\\Users\\alarc\\.console-ninja\\.bin;C:\\Users\\alarc\\AppData\\Local\\Microsoft\\WindowsApps;C:\\Users\\alarc\\AppData\\Local\\Programs\\Microsoft VS Code\\bin;C:\\Users\\alarc\\AppData\\Local\\GitHubDesktop\\bin;C:\\Users\\alarc\\AppData\\Local\\Microsoft\\WinGet\\Packages\\Schniz.fnm_Microsoft.Winget.Source_8wekyb3d8bbwe;C:\\Users\\alarc\\AppData\\Roaming\\npm;C:\\Users\\alarc\\AppData\\Local\\Programs\\oh-my-posh\\bin;C:\\Users\\alarc\\.dotnet'"
     ]
    }
   ],
   "source": [
    "\n",
    "transaccion_completa['DayOfMonth'] = transaccion_completa['fecha_transaccion'].dt.day\n",
    "\n",
    "# Imprimir encabezados después de agregar cálculos adicionales\n",
    "print(\"Encabezados después de cálculos adicionales:\")\n",
    "print(transaccion_completa.head(), \"\\n\")\n",
    "\n",
    "# Paso 3: Carga de datos\n",
    "print(\"== Paso 3: Carga de datos ==\")\n",
    "\n",
    "# Guardar el resultado consolidado\n",
    "transaccion_completa.to_csv(LOCAL_PATH, index=False)\n",
    "print(f\"Archivo consolidado guardado localmente como {LOCAL_PATH}.\\n\")\n",
    "\n",
    "# Subir el archivo al servidor SFTP\n",
    "try:\n",
    "    # Verificar si el archivo local existe\n",
    "    if not os.path.exists(LOCAL_PATH):\n",
    "        print(f\"Error: El archivo '{LOCAL_PATH}' no existe.\")\n",
    "        exit()\n",
    "\n",
    "    # Crear conexión SFTP\n",
    "    private_key = paramiko.RSAKey.from_private_key_file(SFTP_PRIVATE_KEY)\n",
    "    transport = paramiko.Transport((SFTP_HOST, SFTP_PORT))\n",
    "    transport.connect(username=SFTP_USER, pkey=private_key)\n",
    "    sftp = paramiko.SFTPClient.from_transport(transport)\n",
    "\n",
    "    # Subir el archivo\n",
    "    print(f\"Subiendo {LOCAL_PATH} a {REMOTE_PATH}...\")\n",
    "    sftp.put(LOCAL_PATH, REMOTE_PATH)\n",
    "    print(\"Archivo subido con éxito.\")\n",
    "\n",
    "    # Cerrar la conexión\n",
    "    sftp.close()\n",
    "    transport.close()\n",
    "except FileNotFoundError as e:\n",
    "    print(f\"Error: Archivo no encontrado. {e}\")\n",
    "except paramiko.SSHException as e:\n",
    "    print(f\"Error SSH: {e}\")\n",
    "except Exception as e:\n",
    "    print(f\"Error al subir el archivo al servidor SFTP: {e}\")"
   ]
  },
  {
   "cell_type": "markdown",
   "metadata": {},
   "source": [
    "# Descargar archivo del servidor SFTP"
   ]
  },
  {
   "cell_type": "code",
   "execution_count": 45,
   "metadata": {},
   "outputs": [
    {
     "name": "stdout",
     "output_type": "stream",
     "text": [
      "Conectando al servidor SFTP en /data/sftp/...\n",
      "Descargando el archivo más reciente: reporte_consolidado-reporte_consolidado-2024-11-26-23_55.csv\n",
      "Archivo descargado con éxito: C:/Users/alarc/Desktop/DataMining/ETL/reporte_consolidado-reporte_consolidado-2024-11-26-23_55.csv\n"
     ]
    }
   ],
   "source": [
    "import paramiko\n",
    "import os\n",
    "from datetime import datetime\n",
    "\n",
    "\n",
    "LOCAL_DIR = os.getenv('RUTA')\n",
    "REMOTE_DIR = '/data/sftp/'\n",
    "\n",
    "try:\n",
    "    # Crear conexión SFTP\n",
    "    private_key = paramiko.RSAKey.from_private_key_file(SFTP_PRIVATE_KEY)\n",
    "    transport = paramiko.Transport((SFTP_HOST, SFTP_PORT))\n",
    "    transport.connect(username=SFTP_USER, pkey=private_key)\n",
    "    sftp = paramiko.SFTPClient.from_transport(transport)\n",
    "\n",
    "    # Listar archivos en el directorio remoto\n",
    "    print(f\"Conectando al servidor SFTP en {REMOTE_DIR}...\")\n",
    "    files = sftp.listdir_attr(REMOTE_DIR)\n",
    "    \n",
    "    # Buscar el archivo más reciente\n",
    "    latest_file = None\n",
    "    latest_time = None\n",
    "    for file in files:\n",
    "        if file.filename.endswith('.csv'):  # Solo considerar archivos .csv\n",
    "            file_time = file.st_mtime  # Tiempo de modificación\n",
    "            if latest_time is None or file_time > latest_time:\n",
    "                latest_time = file_time\n",
    "                latest_file = file\n",
    "\n",
    "    if latest_file:\n",
    "        # Descargar el archivo más reciente\n",
    "        remote_file_path = REMOTE_DIR + latest_file.filename\n",
    "        local_file_path = os.path.join(LOCAL_DIR, latest_file.filename)\n",
    "        print(f\"Descargando el archivo más reciente: {latest_file.filename}\")\n",
    "        sftp.get(remote_file_path, local_file_path)\n",
    "        print(f\"Archivo descargado con éxito: {local_file_path}\")\n",
    "    else:\n",
    "        print(\"No se encontraron archivos .csv en el directorio remoto.\")\n",
    "\n",
    "    # Cerrar la conexión\n",
    "    sftp.close()\n",
    "    transport.close()\n",
    "except FileNotFoundError as e:\n",
    "    print(f\"Error: Archivo no encontrado. {e}\")\n",
    "except paramiko.SSHException as e:\n",
    "    print(f\"Error SSH: {e}\")\n",
    "except Exception as e:\n",
    "    print(f\"Error: {e}\")\n"
   ]
  }
 ],
 "metadata": {
  "kernelspec": {
   "display_name": "venv",
   "language": "python",
   "name": "python3"
  },
  "language_info": {
   "codemirror_mode": {
    "name": "ipython",
    "version": 3
   },
   "file_extension": ".py",
   "mimetype": "text/x-python",
   "name": "python",
   "nbconvert_exporter": "python",
   "pygments_lexer": "ipython3",
   "version": "3.12.7"
  }
 },
 "nbformat": 4,
 "nbformat_minor": 2
}
