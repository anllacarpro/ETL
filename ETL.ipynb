{
 "cells": [
  {
   "cell_type": "code",
   "execution_count": 47,
   "metadata": {},
   "outputs": [],
   "source": [
    "import sqlite3\n",
    "import pandas as pd\n",
    "import paramiko\n",
    "import os\n",
    "import requests\n",
    "import json"
   ]
  },
  {
   "cell_type": "markdown",
   "metadata": {},
   "source": [
    "# IMPORTS"
   ]
  },
  {
   "cell_type": "markdown",
   "metadata": {},
   "source": [
    "# Configuración del SFTP"
   ]
  },
  {
   "cell_type": "code",
   "execution_count": 43,
   "metadata": {},
   "outputs": [
    {
     "name": "stdout",
     "output_type": "stream",
     "text": [
      "C:/Users/alarc/Desktop/DataMining/ETL/reporte_consolidado-2024-11-27-10_28.csv\n"
     ]
    }
   ],
   "source": [
    "import os\n",
    "from dotenv import load_dotenv\n",
    "import pandas as pd\n",
    "\n",
    "# Load environment variables from .env file\n",
    "load_dotenv()\n",
    "\n",
    "# Get variables from environment\n",
    "SFTP_HOST = os.getenv('SFTP_HOST')\n",
    "SFTP_PORT = int(os.getenv('SFTP_PORT'))\n",
    "SFTP_USER = os.getenv('SFTP_USER')\n",
    "SFTP_PRIVATE_KEY = os.getenv('SFTP_PRIVATE_KEY')\n",
    "RUTA = os.getenv('RUTA')\n",
    "\n",
    "# Generate file name and paths\n",
    "time = pd.Timestamp.now()\n",
    "file = 'reporte_consolidado-' + time.strftime('%Y-%m-%d-%H_%M') + '.csv'\n",
    "\n",
    "LOCAL_PATH = RUTA + file\n",
    "print(LOCAL_PATH)\n",
    "\n",
    "REMOTE_PATH = '/data/sftp/reporte_consolidado-' + file"
   ]
  },
  {
   "cell_type": "markdown",
   "metadata": {},
   "source": [
    "# Proceso ETL"
   ]
  },
  {
   "cell_type": "code",
   "execution_count": 29,
   "metadata": {},
   "outputs": [
    {
     "name": "stdout",
     "output_type": "stream",
     "text": [
      "== Paso 1: Extracción de datos ==\n"
     ]
    }
   ],
   "source": [
    "print(\"== Paso 1: Extracción de datos ==\")\n",
    "\n",
    "# Conectar a SQLite y extraer datos\n",
    "db_path = 'comercio_ventas.db'\n",
    "conn = sqlite3.connect(db_path)"
   ]
  },
  {
   "cell_type": "markdown",
   "metadata": {},
   "source": [
    "# Extracción de datos de SQLite"
   ]
  },
  {
   "cell_type": "code",
   "execution_count": 30,
   "metadata": {},
   "outputs": [],
   "source": [
    "comercio_df = pd.read_sql_query(\"SELECT * FROM Comercio\", conn)\n",
    "producto_df = pd.read_sql_query(\"SELECT * FROM Producto\", conn)\n",
    "transaccion_df = pd.read_sql_query(\"SELECT * FROM Transaccion\", conn)\n",
    "detalle_transaccion_df = pd.read_sql_query(\"SELECT * FROM Detalle_Transaccion\", conn)\n",
    "\n",
    "# Cerrar la conexión a la base de datos\n",
    "conn.close()"
   ]
  },
  {
   "cell_type": "markdown",
   "metadata": {},
   "source": [
    "# Imprimir los encabezados para verificar los datos extraídos"
   ]
  },
  {
   "cell_type": "code",
   "execution_count": 31,
   "metadata": {},
   "outputs": [
    {
     "name": "stdout",
     "output_type": "stream",
     "text": [
      "Encabezados de Comercio:\n",
      "   id_comercio        RUC codigo_comercio nombre_comercio    direccion  \\\n",
      "0            1  205500001            C001      Comercio 1  Dirección X   \n",
      "1            2  205500002            C002      Comercio 2  Dirección X   \n",
      "2            3  205500003            C003      Comercio 3  Dirección X   \n",
      "3            4  205500004            C004      Comercio 4  Dirección X   \n",
      "4            5  205500005            C005      Comercio 5  Dirección X   \n",
      "\n",
      "    telefono                email fecha_registro ciudad    distrito provincia  \\\n",
      "0  999999999  correo1@example.com     2024-11-14   Lima  San Isidro      Lima   \n",
      "1  999999999  correo2@example.com     2024-11-14   Lima  San Isidro      Lima   \n",
      "2  999999999  correo3@example.com     2024-11-14   Lima  San Isidro      Lima   \n",
      "3  999999999  correo4@example.com     2024-11-14   Lima  San Isidro      Lima   \n",
      "4  999999999  correo5@example.com     2024-11-14   Lima  San Isidro      Lima   \n",
      "\n",
      "  departamento tipo_comercio     sector  ingresos_anuales fecha_apertura  \\\n",
      "0         Lima     Minorista  Alimentos         132322.03     2015-01-01   \n",
      "1         Lima     Minorista  Alimentos         140414.51     2015-01-01   \n",
      "2         Lima     Minorista  Alimentos         177087.76     2015-01-01   \n",
      "3         Lima     Minorista  Alimentos         146884.12     2015-01-01   \n",
      "4         Lima     Minorista  Alimentos          94630.19     2015-01-01   \n",
      "\n",
      "   numero_empleados frecuencia_transacciones nivel_lealtad  \n",
      "0                10                  Mensual         Plata  \n",
      "1                13                  Mensual         Plata  \n",
      "2                29                  Mensual         Plata  \n",
      "3                46                  Mensual         Plata  \n",
      "4                34                  Mensual         Plata   \n",
      "\n",
      "Encabezados de Producto:\n",
      "   id_producto  id_comercio nombre_producto    categoria  precio_unitario\n",
      "0            1            1      Producto A  Categoría X            96.73\n",
      "1            2            5      Producto B  Categoría X            44.51\n",
      "2            3            3      Producto C  Categoría X            81.26\n",
      "3            4            4      Producto D  Categoría X            57.60\n",
      "4            5            2      Producto E  Categoría X            61.12 \n",
      "\n",
      "Encabezados de Transacción:\n",
      "   id_transaccion  id_comercio           fecha_transaccion tipo_operacion  \\\n",
      "0               1            1  2024-10-05 00:26:43.323858          Venta   \n",
      "1               2            2  2024-07-02 00:26:43.337182          Venta   \n",
      "2               3            5  2024-05-30 00:26:43.337182          Venta   \n",
      "3               4            2  2023-12-14 00:26:43.337182          Venta   \n",
      "4               5            1  2024-02-10 00:26:43.337182          Venta   \n",
      "\n",
      "  id_operacion      estado   monto moneda  id_producto motivo_venta_observada  \\\n",
      "0     OP000001  Completado   55.23  Soles            7      Sin observaciones   \n",
      "1     OP000002  Completado   26.80  Soles            5                          \n",
      "2     OP000003   Rechazado  165.60  Soles            5                          \n",
      "3     OP000004  Completado   87.75  Soles            5                          \n",
      "4     OP000005   Rechazado  183.13  Soles            7              Observado   \n",
      "\n",
      "   ... origen_tarjeta tipo_tarjeta marca_tarjeta tipo_captura  banco_emisor  \\\n",
      "0  ...  Internacional      Crédito    MasterCard           QR     Interbank   \n",
      "1  ...  Internacional      Crédito          Visa           QR          BBVA   \n",
      "2  ...       Nacional       Débito    MasterCard           QR           BCP   \n",
      "3  ...  Internacional       Débito          Visa           QR     Interbank   \n",
      "4  ...  Internacional       Débito    MasterCard    Magstripe     Interbank   \n",
      "\n",
      "  numero_cuenta banco_pagador numero_cuotas transaccion_cuotas_sin_interes  \\\n",
      "0    1695364423           BCP             8                             SI   \n",
      "1    3459135248          BBVA             5                             SI   \n",
      "2    9951217178     Interbank             6                             SI   \n",
      "3    8414083139          BBVA             0                             NO   \n",
      "4    5679582864    Scotiabank             4                             SI   \n",
      "\n",
      "    nombre_programa  \n",
      "0       Paga Rápido  \n",
      "1       Paga Rápido  \n",
      "2       Paga Rápido  \n",
      "3  Cashback Program  \n",
      "4                    \n",
      "\n",
      "[5 rows x 27 columns] \n",
      "\n",
      "Encabezados de Detalle Transacción:\n",
      "   id_detalle_transaccion  id_transaccion  importe_descuento cashback  \\\n",
      "0                       1               1               1.67       NO   \n",
      "1                       2               2              13.29       SI   \n",
      "2                       3               3               7.02       SI   \n",
      "3                       4               4              13.02       SI   \n",
      "4                       5               5              13.99       SI   \n",
      "\n",
      "   monto_cashback  comision_cuota_sin_interes paga_rapido  qr  importe_propina  \n",
      "0            8.60                        1.37          NO  SI            14.80  \n",
      "1            4.73                        4.10          NO  SI            10.73  \n",
      "2            5.31                        2.40          SI  SI             8.66  \n",
      "3            5.47                        2.00          SI  SI             8.06  \n",
      "4            8.77                        3.14          NO  NO             5.73   \n",
      "\n"
     ]
    }
   ],
   "source": [
    "print(\"Encabezados de Comercio:\")\n",
    "print(comercio_df.head(), \"\\n\")\n",
    "\n",
    "print(\"Encabezados de Producto:\")\n",
    "print(producto_df.head(), \"\\n\")\n",
    "\n",
    "print(\"Encabezados de Transacción:\")\n",
    "print(transaccion_df.head(), \"\\n\")\n",
    "\n",
    "print(\"Encabezados de Detalle Transacción:\")\n",
    "print(detalle_transaccion_df.head(), \"\\n\")"
   ]
  },
  {
   "cell_type": "markdown",
   "metadata": {},
   "source": [
    "# Extracción de datos externos (archivos CSV)"
   ]
  },
  {
   "cell_type": "code",
   "execution_count": 32,
   "metadata": {},
   "outputs": [
    {
     "name": "stdout",
     "output_type": "stream",
     "text": [
      "Encabezados de Tarifas Bancarias:\n",
      "        banco tipo_tarjeta  comision\n",
      "0         BCP       Débito     0.015\n",
      "1         BCP      Crédito     0.020\n",
      "2   Interbank       Débito     0.012\n",
      "3   Interbank      Crédito     0.018\n",
      "4  Scotiabank       Débito     0.014 \n",
      "\n",
      "Encabezados de Días Festivos:\n",
      "        fecha              descripcion\n",
      "0  2024-01-01                Año Nuevo\n",
      "1  2024-04-18             Jueves Santo\n",
      "2  2024-04-19            Viernes Santo\n",
      "3  2024-05-01          Día del Trabajo\n",
      "4  2024-07-28  Día de la Independencia \n",
      "\n"
     ]
    }
   ],
   "source": [
    "tarifas_bancarias = pd.read_csv('tarifas_bancarias.csv')  # Contiene banco, tipo_tarjeta y comisión\n",
    "dias_festivos = pd.read_csv('dias_festivos.csv')  # Contiene fecha y descripción del día festivo\n",
    "\n",
    "# Imprimir encabezados de archivos CSV\n",
    "print(\"Encabezados de Tarifas Bancarias:\")\n",
    "print(tarifas_bancarias.head(), \"\\n\")\n",
    "\n",
    "print(\"Encabezados de Días Festivos:\")\n",
    "print(dias_festivos.head(), \"\\n\")\n"
   ]
  },
  {
   "cell_type": "markdown",
   "metadata": {},
   "source": [
    "# Paso 2: Transformación de datos"
   ]
  },
  {
   "cell_type": "code",
   "execution_count": 33,
   "metadata": {},
   "outputs": [
    {
     "name": "stdout",
     "output_type": "stream",
     "text": [
      "== Paso 2: Transformación de datos ==\n",
      "Encabezados después de unir Transacción y Detalle:\n",
      "   id_transaccion  id_comercio_comercio           fecha_transaccion  \\\n",
      "0               1                     1  2024-10-05 00:26:43.323858   \n",
      "1               1                     1  2024-10-05 00:26:43.323858   \n",
      "2               2                     2  2024-07-02 00:26:43.337182   \n",
      "3               2                     2  2024-07-02 00:26:43.337182   \n",
      "4               3                     5  2024-05-30 00:26:43.337182   \n",
      "\n",
      "  tipo_operacion id_operacion      estado   monto moneda  id_producto  \\\n",
      "0          Venta     OP000001  Completado   55.23  Soles            7   \n",
      "1          Venta     OP000001  Completado   55.23  Soles            7   \n",
      "2          Venta     OP000002  Completado   26.80  Soles            5   \n",
      "3          Venta     OP000002  Completado   26.80  Soles            5   \n",
      "4          Venta     OP000003   Rechazado  165.60  Soles            5   \n",
      "\n",
      "  motivo_venta_observada  ...     sector ingresos_anuales fecha_apertura  \\\n",
      "0      Sin observaciones  ...  Alimentos        132322.03     2015-01-01   \n",
      "1      Sin observaciones  ...  Alimentos        132322.03     2015-01-01   \n",
      "2                         ...  Alimentos        140414.51     2015-01-01   \n",
      "3                         ...  Alimentos        140414.51     2015-01-01   \n",
      "4                         ...  Alimentos         94630.19     2015-01-01   \n",
      "\n",
      "  numero_empleados  frecuencia_transacciones nivel_lealtad  \\\n",
      "0               10                   Mensual         Plata   \n",
      "1               10                   Mensual         Plata   \n",
      "2               13                   Mensual         Plata   \n",
      "3               13                   Mensual         Plata   \n",
      "4               34                   Mensual         Plata   \n",
      "\n",
      "  id_comercio_producto nombre_producto    categoria precio_unitario  \n",
      "0                    1      Producto G  Categoría X           16.39  \n",
      "1                    1      Producto G  Categoría X           16.39  \n",
      "2                    2      Producto E  Categoría X           61.12  \n",
      "3                    2      Producto E  Categoría X           61.12  \n",
      "4                    2      Producto E  Categoría X           61.12  \n",
      "\n",
      "[5 rows x 57 columns] \n",
      "\n",
      "Encabezados después de agregar tarifas bancarias:\n",
      "   id_transaccion  id_comercio_comercio           fecha_transaccion  \\\n",
      "0               1                     1  2024-10-05 00:26:43.323858   \n",
      "1               1                     1  2024-10-05 00:26:43.323858   \n",
      "2               2                     2  2024-07-02 00:26:43.337182   \n",
      "3               2                     2  2024-07-02 00:26:43.337182   \n",
      "4               3                     5  2024-05-30 00:26:43.337182   \n",
      "\n",
      "  tipo_operacion id_operacion      estado   monto moneda  id_producto  \\\n",
      "0          Venta     OP000001  Completado   55.23  Soles            7   \n",
      "1          Venta     OP000001  Completado   55.23  Soles            7   \n",
      "2          Venta     OP000002  Completado   26.80  Soles            5   \n",
      "3          Venta     OP000002  Completado   26.80  Soles            5   \n",
      "4          Venta     OP000003   Rechazado  165.60  Soles            5   \n",
      "\n",
      "  motivo_venta_observada  ... fecha_apertura numero_empleados  \\\n",
      "0      Sin observaciones  ...     2015-01-01               10   \n",
      "1      Sin observaciones  ...     2015-01-01               10   \n",
      "2                         ...     2015-01-01               13   \n",
      "3                         ...     2015-01-01               13   \n",
      "4                         ...     2015-01-01               34   \n",
      "\n",
      "  frecuencia_transacciones nivel_lealtad  id_comercio_producto  \\\n",
      "0                  Mensual         Plata                     1   \n",
      "1                  Mensual         Plata                     1   \n",
      "2                  Mensual         Plata                     2   \n",
      "3                  Mensual         Plata                     2   \n",
      "4                  Mensual         Plata                     2   \n",
      "\n",
      "  nombre_producto    categoria precio_unitario      banco comision  \n",
      "0      Producto G  Categoría X           16.39  Interbank    0.018  \n",
      "1      Producto G  Categoría X           16.39  Interbank    0.018  \n",
      "2      Producto E  Categoría X           61.12       BBVA    0.017  \n",
      "3      Producto E  Categoría X           61.12       BBVA    0.017  \n",
      "4      Producto E  Categoría X           61.12        BCP    0.015  \n",
      "\n",
      "[5 rows x 59 columns] \n",
      "\n"
     ]
    }
   ],
   "source": [
    "print(\"== Paso 2: Transformación de datos ==\")\n",
    "\n",
    "# 1. Unir tablas de SQLite\n",
    "transaccion_completa = pd.merge(transaccion_df, detalle_transaccion_df, left_on='id_transaccion', right_on='id_transaccion')\n",
    "transaccion_completa = pd.merge(transaccion_completa, comercio_df, left_on='id_comercio', right_on='id_comercio')\n",
    "transaccion_completa = pd.merge(transaccion_completa, producto_df, left_on='id_producto', right_on='id_producto', suffixes=('_comercio', '_producto'))\n",
    "\n",
    "# Imprimir encabezados después de la unión\n",
    "print(\"Encabezados después de unir Transacción y Detalle:\")\n",
    "print(transaccion_completa.head(), \"\\n\")\n",
    "\n",
    "# 2. Agregar información de tarifas bancarias\n",
    "transaccion_completa = pd.merge(\n",
    "    transaccion_completa, \n",
    "    tarifas_bancarias, \n",
    "    how='left', \n",
    "    left_on=['banco_emisor', 'tipo_tarjeta'], \n",
    "    right_on=['banco', 'tipo_tarjeta']\n",
    ")\n",
    "\n",
    "# Imprimir encabezados después de agregar tarifas bancarias\n",
    "print(\"Encabezados después de agregar tarifas bancarias:\")\n",
    "print(transaccion_completa.head(), \"\\n\")"
   ]
  },
  {
   "cell_type": "markdown",
   "metadata": {},
   "source": [
    "# 3. Agregar información de días festivos"
   ]
  },
  {
   "cell_type": "code",
   "execution_count": 34,
   "metadata": {},
   "outputs": [
    {
     "name": "stdout",
     "output_type": "stream",
     "text": [
      "Encabezados después de agregar días festivos:\n",
      "   id_transaccion  id_comercio_comercio          fecha_transaccion  \\\n",
      "0               1                     1 2024-10-05 00:26:43.323858   \n",
      "1               1                     1 2024-10-05 00:26:43.323858   \n",
      "2               2                     2 2024-07-02 00:26:43.337182   \n",
      "3               2                     2 2024-07-02 00:26:43.337182   \n",
      "4               3                     5 2024-05-30 00:26:43.337182   \n",
      "\n",
      "  tipo_operacion id_operacion      estado   monto moneda  id_producto  \\\n",
      "0          Venta     OP000001  Completado   55.23  Soles            7   \n",
      "1          Venta     OP000001  Completado   55.23  Soles            7   \n",
      "2          Venta     OP000002  Completado   26.80  Soles            5   \n",
      "3          Venta     OP000002  Completado   26.80  Soles            5   \n",
      "4          Venta     OP000003   Rechazado  165.60  Soles            5   \n",
      "\n",
      "  motivo_venta_observada  ... nivel_lealtad id_comercio_producto  \\\n",
      "0      Sin observaciones  ...         Plata                    1   \n",
      "1      Sin observaciones  ...         Plata                    1   \n",
      "2                         ...         Plata                    2   \n",
      "3                         ...         Plata                    2   \n",
      "4                         ...         Plata                    2   \n",
      "\n",
      "  nombre_producto    categoria  precio_unitario      banco comision fecha  \\\n",
      "0      Producto G  Categoría X            16.39  Interbank    0.018   NaT   \n",
      "1      Producto G  Categoría X            16.39  Interbank    0.018   NaT   \n",
      "2      Producto E  Categoría X            61.12       BBVA    0.017   NaT   \n",
      "3      Producto E  Categoría X            61.12       BBVA    0.017   NaT   \n",
      "4      Producto E  Categoría X            61.12        BCP    0.015   NaT   \n",
      "\n",
      "  descripcion es_dia_festivo  \n",
      "0         NaN          False  \n",
      "1         NaN          False  \n",
      "2         NaN          False  \n",
      "3         NaN          False  \n",
      "4         NaN          False  \n",
      "\n",
      "[5 rows x 62 columns] \n",
      "\n"
     ]
    }
   ],
   "source": [
    "transaccion_completa['fecha_transaccion'] = pd.to_datetime(transaccion_completa['fecha_transaccion'])\n",
    "dias_festivos['fecha'] = pd.to_datetime(dias_festivos['fecha'])\n",
    "transaccion_completa = pd.merge(\n",
    "    transaccion_completa, \n",
    "    dias_festivos, \n",
    "    how='left', \n",
    "    left_on='fecha_transaccion', \n",
    "    right_on='fecha'\n",
    ")\n",
    "transaccion_completa['es_dia_festivo'] = ~transaccion_completa['descripcion'].isna()\n",
    "\n",
    "# Imprimir encabezados después de agregar días festivos\n",
    "print(\"Encabezados después de agregar días festivos:\")\n",
    "print(transaccion_completa.head(), \"\\n\")"
   ]
  },
  {
   "cell_type": "markdown",
   "metadata": {},
   "source": [
    "# 4. Calcular comisiones bancarias aplicadas"
   ]
  },
  {
   "cell_type": "code",
   "execution_count": 35,
   "metadata": {},
   "outputs": [],
   "source": [
    "transaccion_completa['comision_aplicada'] = transaccion_completa['monto'] * transaccion_completa['comision']\n"
   ]
  },
  {
   "cell_type": "markdown",
   "metadata": {},
   "source": [
    "# 5. Agregar columnas adicionales"
   ]
  },
  {
   "cell_type": "code",
   "execution_count": 52,
   "metadata": {},
   "outputs": [
    {
     "name": "stdout",
     "output_type": "stream",
     "text": [
      "Encabezados después de cálculos adicionales:\n",
      "   id_transaccion  id_comercio_comercio          fecha_transaccion  \\\n",
      "0               1                     1 2024-10-05 00:26:43.323858   \n",
      "1               1                     1 2024-10-05 00:26:43.323858   \n",
      "2               2                     2 2024-07-02 00:26:43.337182   \n",
      "3               2                     2 2024-07-02 00:26:43.337182   \n",
      "4               3                     5 2024-05-30 00:26:43.337182   \n",
      "\n",
      "  tipo_operacion id_operacion      estado   monto moneda  id_producto  \\\n",
      "0          Venta     OP000001  Completado   55.23  Soles            7   \n",
      "1          Venta     OP000001  Completado   55.23  Soles            7   \n",
      "2          Venta     OP000002  Completado   26.80  Soles            5   \n",
      "3          Venta     OP000002  Completado   26.80  Soles            5   \n",
      "4          Venta     OP000003   Rechazado  165.60  Soles            5   \n",
      "\n",
      "  motivo_venta_observada  ... nombre_producto    categoria precio_unitario  \\\n",
      "0      Sin observaciones  ...      Producto G  Categoría X           16.39   \n",
      "1      Sin observaciones  ...      Producto G  Categoría X           16.39   \n",
      "2                         ...      Producto E  Categoría X           61.12   \n",
      "3                         ...      Producto E  Categoría X           61.12   \n",
      "4                         ...      Producto E  Categoría X           61.12   \n",
      "\n",
      "       banco  comision fecha descripcion es_dia_festivo comision_aplicada  \\\n",
      "0  Interbank     0.018   NaT         NaN          False           0.99414   \n",
      "1  Interbank     0.018   NaT         NaN          False           0.99414   \n",
      "2       BBVA     0.017   NaT         NaN          False           0.45560   \n",
      "3       BBVA     0.017   NaT         NaN          False           0.45560   \n",
      "4        BCP     0.015   NaT         NaN          False           2.48400   \n",
      "\n",
      "  DayOfMonth  \n",
      "0          5  \n",
      "1          5  \n",
      "2          2  \n",
      "3          2  \n",
      "4         30  \n",
      "\n",
      "[5 rows x 64 columns] \n",
      "\n",
      "== Paso 3: Carga de datos ==\n",
      "Archivo consolidado guardado localmente como C:/Users/alarc/Desktop/DataMining/ETL/reporte_consolidado-2024-11-27-10_28.csv.\n",
      "\n",
      "Subiendo C:/Users/alarc/Desktop/DataMining/ETL/reporte_consolidado-2024-11-27-10_28.csv a /data/sftp/reporte_consolidado-reporte_consolidado-2024-11-27-10_28.csv...\n",
      "Archivo subido con éxito.\n"
     ]
    }
   ],
   "source": [
    "\n",
    "transaccion_completa['DayOfMonth'] = transaccion_completa['fecha_transaccion'].dt.day\n",
    "\n",
    "# Imprimir encabezados después de agregar cálculos adicionales\n",
    "print(\"Encabezados después de cálculos adicionales:\")\n",
    "print(transaccion_completa.head(), \"\\n\")\n",
    "\n",
    "# Paso 3: Carga de datos\n",
    "print(\"== Paso 3: Carga de datos ==\")\n",
    "\n",
    "# Guardar el resultado consolidado\n",
    "transaccion_completa.to_csv(LOCAL_PATH, index=False)\n",
    "print(f\"Archivo consolidado guardado localmente como {LOCAL_PATH}.\\n\")\n",
    "\n",
    "# Subir el archivo al servidor SFTP\n",
    "try:\n",
    "    # Verificar si el archivo local existe\n",
    "    if not os.path.exists(LOCAL_PATH):\n",
    "        print(f\"Error: El archivo '{LOCAL_PATH}' no existe.\")\n",
    "        exit()\n",
    "\n",
    "    # Crear conexión SFTP\n",
    "    private_key = paramiko.RSAKey.from_private_key_file(SFTP_PRIVATE_KEY)\n",
    "    transport = paramiko.Transport((SFTP_HOST, SFTP_PORT))\n",
    "    transport.connect(username=SFTP_USER, pkey=private_key)\n",
    "    sftp = paramiko.SFTPClient.from_transport(transport)\n",
    "\n",
    "    # Subir el archivo\n",
    "    print(f\"Subiendo {LOCAL_PATH} a {REMOTE_PATH}...\")\n",
    "    sftp.put(LOCAL_PATH, REMOTE_PATH)\n",
    "    print(\"Archivo subido con éxito.\")\n",
    "\n",
    "    # Cerrar la conexión\n",
    "    sftp.close()\n",
    "    transport.close()\n",
    "except FileNotFoundError as e:\n",
    "    print(f\"Error: Archivo no encontrado. {e}\")\n",
    "except paramiko.SSHException as e:\n",
    "    print(f\"Error SSH: {e}\")\n",
    "except Exception as e:\n",
    "    print(f\"Error al subir el archivo al servidor SFTP: {e}\")"
   ]
  },
  {
   "cell_type": "code",
   "execution_count": null,
   "metadata": {},
   "outputs": [
    {
     "name": "stdout",
     "output_type": "stream",
     "text": [
      "Iniciando la extracción de datos...\n",
      "Datos extraídos exitosamente.\n",
      "Transformando los datos...\n",
      "Métricas Calculadas: {'avg_resolution_time': 222.9, 'valid_tickets': 50, 'invalid_tickets': 50, 'tickets_per_area': {'Squad Producto': 18, 'Customer Care': 17, 'SquadBD': 15}}\n",
      "Cargando los datos...\n",
      "Subiendo tickets_transformed.csv a /data/sftp/reportes-tickets/...\n",
      "Error al subir el archivo al servidor SFTP: Failure\n",
      "Proceso ETL completado. Datos cargados en 'tickets_transformed.csv' y 'metrics.json'.\n"
     ]
    }
   ],
   "source": [
    "import paramiko\n",
    "import os\n",
    "import requests\n",
    "import pandas as pd\n",
    "import json\n",
    "from datetime import datetime\n",
    "\n",
    "def etl_process(endpoint_url):\n",
    "    # Generar timestamp para el nombre del archivo\n",
    "    timestamp = datetime.now().strftime(\"%Y-%m-%d_%H-%M-%S\")\n",
    "    LOCAL_TICKETS = f\"tickets_transformed_{timestamp}.csv\"\n",
    "    REMOTE_TICKETS = f\"/data/sftp/reportes-tickets/tickets_transformed_{timestamp}.csv\"\n",
    "\n",
    "    print(\"Iniciando la extracción de datos...\")\n",
    "    response = requests.get(endpoint_url)\n",
    "    if response.status_code == 200:\n",
    "        data = response.json()\n",
    "        print(\"Datos extraídos exitosamente.\")\n",
    "    else:\n",
    "        print(f\"Error al extraer los datos: {response.status_code}\")\n",
    "        return\n",
    "\n",
    "    print(\"Transformando los datos...\")\n",
    "    tickets = data[\"tickets\"]\n",
    "    df_tickets = pd.DataFrame(tickets)\n",
    "    df_tickets.to_csv(LOCAL_TICKETS, index=False)\n",
    "\n",
    "    print(\"Cargando los datos...\")\n",
    "    try:\n",
    "        if not os.path.exists(LOCAL_TICKETS):\n",
    "            print(f\"Error: El archivo '{LOCAL_TICKETS}' no existe.\")\n",
    "            return\n",
    "\n",
    "        private_key = paramiko.RSAKey.from_private_key_file(SFTP_PRIVATE_KEY)\n",
    "        transport = paramiko.Transport((SFTP_HOST, SFTP_PORT))\n",
    "        transport.connect(username=SFTP_USER, pkey=private_key)\n",
    "        sftp = paramiko.SFTPClient.from_transport(transport)\n",
    "\n",
    "        print(\"Archivos en el directorio remoto:\")\n",
    "        print(sftp.listdir(\"/data/sftp/reportes-tickets\"))\n",
    "\n",
    "        print(f\"Subiendo {LOCAL_TICKETS} a {REMOTE_TICKETS}...\")\n",
    "        sftp.put(LOCAL_TICKETS, REMOTE_TICKETS)\n",
    "        print(\"Archivo subido con éxito.\")\n",
    "\n",
    "        sftp.close()\n",
    "        transport.close()\n",
    "    except Exception as e:\n",
    "        print(f\"Error al subir el archivo al servidor SFTP: {e}\")\n",
    "        raise\n",
    "\n",
    "# Ejecutar el ETL\n",
    "etl_process(\"https://run.mocky.io/v3/28944349-91bb-4e72-aa6b-0ac7a5d0069f\")\n"
   ]
  },
  {
   "cell_type": "markdown",
   "metadata": {},
   "source": [
    "# Descargar archivo del servidor SFTP"
   ]
  },
  {
   "cell_type": "code",
   "execution_count": null,
   "metadata": {},
   "outputs": [
    {
     "name": "stdout",
     "output_type": "stream",
     "text": [
      "Iniciando la extracción de datos...\n",
      "Datos extraídos exitosamente.\n",
      "Transformando los datos...\n",
      "Cargando los datos...\n",
      "Archivos en el directorio remoto:\n",
      "[]\n",
      "Subiendo tickets_transformed_2024-11-27_10-57-25.csv a /data/sftp/reportes-tickets/tickets_transformed_2024-11-27_10-57-25.csv...\n",
      "Archivo subido con éxito.\n"
     ]
    }
   ],
   "source": [
    "import paramiko\n",
    "import os\n",
    "from datetime import datetime\n",
    "\n",
    "\n",
    "LOCAL_DIR = os.getenv('RUTA')\n",
    "REMOTE_DIR = '/data/sftp/'\n",
    "\n",
    "try:\n",
    "    # Crear conexión SFTP\n",
    "    private_key = paramiko.RSAKey.from_private_key_file(SFTP_PRIVATE_KEY)\n",
    "    transport = paramiko.Transport((SFTP_HOST, SFTP_PORT))\n",
    "    transport.connect(username=SFTP_USER, pkey=private_key)\n",
    "    sftp = paramiko.SFTPClient.from_transport(transport)\n",
    "\n",
    "    # Listar archivos en el directorio remoto\n",
    "    print(f\"Conectando al servidor SFTP en {REMOTE_DIR}...\")\n",
    "    files = sftp.listdir_attr(REMOTE_DIR)\n",
    "    \n",
    "    # Buscar el archivo más reciente\n",
    "    latest_file = None\n",
    "    latest_time = None\n",
    "    for file in files:\n",
    "        if file.filename.endswith('.csv'):  # Solo considerar archivos .csv\n",
    "            file_time = file.st_mtime  # Tiempo de modificación\n",
    "            if latest_time is None or file_time > latest_time:\n",
    "                latest_time = file_time\n",
    "                latest_file = file\n",
    "\n",
    "    if latest_file:\n",
    "        # Descargar el archivo más reciente\n",
    "        remote_file_path = REMOTE_DIR + latest_file.filename\n",
    "        local_file_path = os.path.join(LOCAL_DIR, latest_file.filename)\n",
    "        print(f\"Descargando el archivo más reciente: {latest_file.filename}\")\n",
    "        sftp.get(remote_file_path, local_file_path)\n",
    "        print(f\"Archivo descargado con éxito: {local_file_path}\")\n",
    "    else:\n",
    "        print(\"No se encontraron archivos .csv en el directorio remoto.\")\n",
    "\n",
    "    # Cerrar la conexión\n",
    "    sftp.close()\n",
    "    transport.close()\n",
    "except FileNotFoundError as e:\n",
    "    print(f\"Error: Archivo no encontrado. {e}\")\n",
    "except paramiko.SSHException as e:\n",
    "    print(f\"Error SSH: {e}\")\n",
    "except Exception as e:\n",
    "    print(f\"Error: {e}\")\n"
   ]
  }
 ],
 "metadata": {
  "kernelspec": {
   "display_name": "venv",
   "language": "python",
   "name": "python3"
  },
  "language_info": {
   "codemirror_mode": {
    "name": "ipython",
    "version": 3
   },
   "file_extension": ".py",
   "mimetype": "text/x-python",
   "name": "python",
   "nbconvert_exporter": "python",
   "pygments_lexer": "ipython3",
   "version": "3.12.7"
  }
 },
 "nbformat": 4,
 "nbformat_minor": 2
}
