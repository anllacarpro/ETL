{
 "cells": [
  {
   "cell_type": "code",
   "execution_count": 5,
   "metadata": {},
   "outputs": [],
   "source": [
    "import sqlite3\n",
    "import pandas as pd\n",
    "import paramiko\n",
    "import os\n",
    "import requests\n",
    "import json"
   ]
  },
  {
   "cell_type": "markdown",
   "metadata": {},
   "source": [
    "# IMPORTS"
   ]
  },
  {
   "cell_type": "markdown",
   "metadata": {},
   "source": [
    "# Configuración del SFTP"
   ]
  },
  {
   "cell_type": "code",
   "execution_count": 6,
   "metadata": {},
   "outputs": [
    {
     "name": "stdout",
     "output_type": "stream",
     "text": [
      "C:/Users/alarc/Desktop/DataMining/ETL/reporte_consolidado-2024-11-27-16_59.csv\n"
     ]
    }
   ],
   "source": [
    "import os\n",
    "from dotenv import load_dotenv\n",
    "import pandas as pd\n",
    "\n",
    "# Load environment variables from .env file\n",
    "load_dotenv()\n",
    "\n",
    "# Get variables from environment\n",
    "SFTP_HOST = os.getenv('SFTP_HOST')\n",
    "SFTP_PORT = int(os.getenv('SFTP_PORT'))\n",
    "SFTP_USER = os.getenv('SFTP_USER')\n",
    "SFTP_PRIVATE_KEY = os.getenv('SFTP_PRIVATE_KEY')\n",
    "RUTA = os.getenv('RUTA')\n",
    "\n",
    "# Generate file name and paths\n",
    "time = pd.Timestamp.now()\n",
    "file = 'reporte_consolidado-' + time.strftime('%Y-%m-%d-%H_%M') + '.csv'\n",
    "\n",
    "LOCAL_PATH = RUTA + file\n",
    "print(LOCAL_PATH)\n",
    "\n",
    "REMOTE_PATH = '/data/sftp/reporte_consolidado-' + file"
   ]
  },
  {
   "cell_type": "markdown",
   "metadata": {},
   "source": [
    "# Proceso ETL"
   ]
  },
  {
   "cell_type": "code",
   "execution_count": 7,
   "metadata": {},
   "outputs": [
    {
     "name": "stdout",
     "output_type": "stream",
     "text": [
      "== Paso 1: Extracción de datos ==\n"
     ]
    }
   ],
   "source": [
    "print(\"== Paso 1: Extracción de datos ==\")\n",
    "\n",
    "# Conectar a SQLite y extraer datos\n",
    "db_path = 'comercio_ventas.db'\n",
    "conn = sqlite3.connect(db_path)"
   ]
  },
  {
   "cell_type": "markdown",
   "metadata": {},
   "source": [
    "# Extracción de datos de SQLite"
   ]
  },
  {
   "cell_type": "code",
   "execution_count": 8,
   "metadata": {},
   "outputs": [],
   "source": [
    "comercio_df = pd.read_sql_query(\"SELECT * FROM Comercio\", conn)\n",
    "producto_df = pd.read_sql_query(\"SELECT * FROM Producto\", conn)\n",
    "transaccion_df = pd.read_sql_query(\"SELECT * FROM Transaccion\", conn)\n",
    "detalle_transaccion_df = pd.read_sql_query(\"SELECT * FROM Detalle_Transaccion\", conn)\n",
    "\n",
    "# Cerrar la conexión a la base de datos\n",
    "conn.close()"
   ]
  },
  {
   "cell_type": "markdown",
   "metadata": {},
   "source": [
    "# Imprimir los encabezados para verificar los datos extraídos"
   ]
  },
  {
   "cell_type": "code",
   "execution_count": 10,
   "metadata": {},
   "outputs": [
    {
     "name": "stdout",
     "output_type": "stream",
     "text": [
      "Encabezados de Comercio:\n",
      "   id_comercio        RUC codigo_comercio nombre_comercio    direccion  \\\n",
      "0            1  205500006            C006      Comercio 6  Dirección Y   \n",
      "1            2  205500007            C007      Comercio 7  Dirección Y   \n",
      "2            3  205500008            C008      Comercio 8  Dirección Y   \n",
      "3            4  205500009            C009      Comercio 9  Dirección Y   \n",
      "4            5  205500010            C010     Comercio 10  Dirección Y   \n",
      "\n",
      "    telefono                 email fecha_registro    ciudad    distrito  \\\n",
      "0  987654321   correo6@example.com     2024-11-27  Trujillo  San Isidro   \n",
      "1  987654321   correo7@example.com     2024-11-27      Lima  San Isidro   \n",
      "2  987654321   correo8@example.com     2024-11-27      Lima      Centro   \n",
      "3  987654321   correo9@example.com     2024-11-27     Piura  Miraflores   \n",
      "4  987654321  correo10@example.com     2024-11-27     Cusco  Miraflores   \n",
      "\n",
      "     provincia    departamento tipo_comercio      sector  ingresos_anuales  \\\n",
      "0  Provincia X  Departamento X        Online  Tecnología         112553.30   \n",
      "1  Provincia X  Departamento X       Offline       Hogar          95349.89   \n",
      "2  Provincia X  Departamento X       Offline        Moda          63850.79   \n",
      "3  Provincia X  Departamento X       Offline       Salud         190330.86   \n",
      "4  Provincia X  Departamento X        Online   Alimentos         128682.22   \n",
      "\n",
      "  fecha_apertura  numero_empleados frecuencia_transacciones nivel_lealtad  \n",
      "0     2021-11-27                14                  Mensual        Bronce  \n",
      "1     2016-12-24                69                  Mensual         Plata  \n",
      "2     2017-04-01                11                   Diaria        Bronce  \n",
      "3     2021-05-07                23                   Diaria        Bronce  \n",
      "4     2024-03-20                33                  Mensual        Bronce   \n",
      "\n",
      "Encabezados de Producto:\n",
      "   id_producto  id_comercio nombre_producto    categoria  precio_unitario\n",
      "0          201           39      Producto A  Electrónica            47.25\n",
      "1          202           39      Producto B    Alimentos           463.46\n",
      "2          203           39      Producto C    Alimentos           175.63\n",
      "3          204           39      Producto D         Ropa           397.58\n",
      "4          205           39      Producto E    Alimentos           377.07 \n",
      "\n",
      "Encabezados de Transacción:\n",
      "   id_transaccion  id_comercio           fecha_transaccion tipo_operacion  \\\n",
      "0             201            1  2024-05-24 00:30:59.391416          Venta   \n",
      "1             202            1  2024-07-21 00:30:59.391416          Venta   \n",
      "2             203            1  2024-03-17 00:30:59.391416          Venta   \n",
      "3             204            1  2024-03-07 00:30:59.391416          Venta   \n",
      "4             205            1  2024-05-02 00:30:59.391416          Venta   \n",
      "\n",
      "  id_operacion      estado    monto moneda  id_producto  \\\n",
      "0          1_1   Rechazado   175.91  Soles          808   \n",
      "1          1_2   Rechazado  1268.25  Soles          227   \n",
      "2          1_3  En proceso  1105.11  Soles           81   \n",
      "3          1_4   Rechazado   252.90  Soles          479   \n",
      "4          1_5  Completado  1979.82  Soles          781   \n",
      "\n",
      "  motivo_venta_observada  ... origen_tarjeta tipo_tarjeta marca_tarjeta  \\\n",
      "0      Sin observaciones  ...  Internacional      Crédito          Amex   \n",
      "1      Sin observaciones  ...       Nacional      Crédito          Amex   \n",
      "2                         ...  Internacional       Débito    MasterCard   \n",
      "3                         ...       Nacional       Débito          Amex   \n",
      "4              Observado  ...  Internacional      Crédito          Visa   \n",
      "\n",
      "  tipo_captura  banco_emisor numero_cuenta banco_pagador numero_cuotas  \\\n",
      "0       Manual    Scotiabank    5623666160           BCP             0   \n",
      "1       Manual    Scotiabank    8231664230           BCP             2   \n",
      "2           QR          BBVA    7469201212     Interbank             5   \n",
      "3           QR           BCP    8578658140           BCP             7   \n",
      "4    Magstripe     Interbank    7350786217           BCP             7   \n",
      "\n",
      "  transaccion_cuotas_sin_interes     nombre_programa  \n",
      "0                             NO  Descuento Especial  \n",
      "1                             SI                      \n",
      "2                             NO  Descuento Especial  \n",
      "3                             NO                      \n",
      "4                             NO  Descuento Especial  \n",
      "\n",
      "[5 rows x 27 columns] \n",
      "\n",
      "Encabezados de Detalle Transacción:\n",
      "   id_detalle_transaccion  id_transaccion  importe_descuento cashback  \\\n",
      "0                     201               1              33.41       NO   \n",
      "1                     202               2              83.37       SI   \n",
      "2                     203               3              96.39       SI   \n",
      "3                     204               4              80.67       NO   \n",
      "4                     205               5              93.52       NO   \n",
      "\n",
      "   monto_cashback  comision_cuota_sin_interes paga_rapido  qr  importe_propina  \n",
      "0            9.88                        2.70          NO  NO             7.29  \n",
      "1            7.12                        5.05          NO  SI             6.04  \n",
      "2           12.90                        4.84          NO  SI            14.52  \n",
      "3            5.13                        3.91          NO  SI             3.60  \n",
      "4           17.77                        2.89          SI  SI            14.22   \n",
      "\n"
     ]
    }
   ],
   "source": [
    "print(\"Encabezados de Comercio:\")\n",
    "print(comercio_df.head(), \"\\n\")\n",
    "\n",
    "print(\"Encabezados de Producto:\")\n",
    "print(producto_df.head(), \"\\n\")\n",
    "\n",
    "print(\"Encabezados de Transacción:\")\n",
    "print(transaccion_df.head(), \"\\n\")\n",
    "\n",
    "print(\"Encabezados de Detalle Transacción:\")\n",
    "print(detalle_transaccion_df.head(), \"\\n\")"
   ]
  },
  {
   "cell_type": "markdown",
   "metadata": {},
   "source": [
    "# Extracción de datos externos (archivos CSV)"
   ]
  },
  {
   "cell_type": "code",
   "execution_count": 11,
   "metadata": {},
   "outputs": [
    {
     "name": "stdout",
     "output_type": "stream",
     "text": [
      "Encabezados de Tarifas Bancarias:\n",
      "        banco tipo_tarjeta  comision\n",
      "0         BCP       Débito     0.015\n",
      "1         BCP      Crédito     0.020\n",
      "2   Interbank       Débito     0.012\n",
      "3   Interbank      Crédito     0.018\n",
      "4  Scotiabank       Débito     0.014 \n",
      "\n",
      "Encabezados de Días Festivos:\n",
      "        fecha              descripcion\n",
      "0  2024-01-01                Año Nuevo\n",
      "1  2024-04-18             Jueves Santo\n",
      "2  2024-04-19            Viernes Santo\n",
      "3  2024-05-01          Día del Trabajo\n",
      "4  2024-07-28  Día de la Independencia \n",
      "\n"
     ]
    }
   ],
   "source": [
    "tarifas_bancarias = pd.read_csv('tarifas_bancarias.csv')  # Contiene banco, tipo_tarjeta y comisión\n",
    "dias_festivos = pd.read_csv('dias_festivos.csv')  # Contiene fecha y descripción del día festivo\n",
    "\n",
    "# Imprimir encabezados de archivos CSV\n",
    "print(\"Encabezados de Tarifas Bancarias:\")\n",
    "print(tarifas_bancarias.head(), \"\\n\")\n",
    "\n",
    "print(\"Encabezados de Días Festivos:\")\n",
    "print(dias_festivos.head(), \"\\n\")\n"
   ]
  },
  {
   "cell_type": "markdown",
   "metadata": {},
   "source": [
    "# Paso 2: Transformación de datos"
   ]
  },
  {
   "cell_type": "code",
   "execution_count": 12,
   "metadata": {},
   "outputs": [
    {
     "name": "stdout",
     "output_type": "stream",
     "text": [
      "== Paso 2: Transformación de datos ==\n",
      "Encabezados después de unir Transacción y Detalle:\n",
      "   id_transaccion  id_comercio_comercio           fecha_transaccion  \\\n",
      "0             201                     1  2024-05-24 00:30:59.391416   \n",
      "1             201                     1  2024-05-24 00:30:59.391416   \n",
      "2             202                     1  2024-07-21 00:30:59.391416   \n",
      "3             202                     1  2024-07-21 00:30:59.391416   \n",
      "4             204                     1  2024-03-07 00:30:59.391416   \n",
      "\n",
      "  tipo_operacion id_operacion     estado    monto moneda  id_producto  \\\n",
      "0          Venta          1_1  Rechazado   175.91  Soles          808   \n",
      "1          Venta          1_1  Rechazado   175.91  Soles          808   \n",
      "2          Venta          1_2  Rechazado  1268.25  Soles          227   \n",
      "3          Venta          1_2  Rechazado  1268.25  Soles          227   \n",
      "4          Venta          1_4  Rechazado   252.90  Soles          479   \n",
      "\n",
      "  motivo_venta_observada  ...      sector ingresos_anuales fecha_apertura  \\\n",
      "0      Sin observaciones  ...  Tecnología         112553.3     2021-11-27   \n",
      "1      Sin observaciones  ...  Tecnología         112553.3     2021-11-27   \n",
      "2      Sin observaciones  ...  Tecnología         112553.3     2021-11-27   \n",
      "3      Sin observaciones  ...  Tecnología         112553.3     2021-11-27   \n",
      "4                         ...  Tecnología         112553.3     2021-11-27   \n",
      "\n",
      "  numero_empleados  frecuencia_transacciones nivel_lealtad  \\\n",
      "0               14                   Mensual        Bronce   \n",
      "1               14                   Mensual        Bronce   \n",
      "2               14                   Mensual        Bronce   \n",
      "3               14                   Mensual        Bronce   \n",
      "4               14                   Mensual        Bronce   \n",
      "\n",
      "  id_comercio_producto nombre_producto categoria precio_unitario  \n",
      "0                  160      Producto C      Ropa           50.28  \n",
      "1                  160      Producto C      Ropa           50.28  \n",
      "2                   44      Producto B   Muebles           44.00  \n",
      "3                   44      Producto B   Muebles           44.00  \n",
      "4                   94      Producto D      Ropa           11.13  \n",
      "\n",
      "[5 rows x 57 columns] \n",
      "\n",
      "Encabezados después de agregar tarifas bancarias:\n",
      "   id_transaccion  id_comercio_comercio           fecha_transaccion  \\\n",
      "0             201                     1  2024-05-24 00:30:59.391416   \n",
      "1             201                     1  2024-05-24 00:30:59.391416   \n",
      "2             202                     1  2024-07-21 00:30:59.391416   \n",
      "3             202                     1  2024-07-21 00:30:59.391416   \n",
      "4             204                     1  2024-03-07 00:30:59.391416   \n",
      "\n",
      "  tipo_operacion id_operacion     estado    monto moneda  id_producto  \\\n",
      "0          Venta          1_1  Rechazado   175.91  Soles          808   \n",
      "1          Venta          1_1  Rechazado   175.91  Soles          808   \n",
      "2          Venta          1_2  Rechazado  1268.25  Soles          227   \n",
      "3          Venta          1_2  Rechazado  1268.25  Soles          227   \n",
      "4          Venta          1_4  Rechazado   252.90  Soles          479   \n",
      "\n",
      "  motivo_venta_observada  ... fecha_apertura numero_empleados  \\\n",
      "0      Sin observaciones  ...     2021-11-27               14   \n",
      "1      Sin observaciones  ...     2021-11-27               14   \n",
      "2      Sin observaciones  ...     2021-11-27               14   \n",
      "3      Sin observaciones  ...     2021-11-27               14   \n",
      "4                         ...     2021-11-27               14   \n",
      "\n",
      "  frecuencia_transacciones nivel_lealtad  id_comercio_producto  \\\n",
      "0                  Mensual        Bronce                   160   \n",
      "1                  Mensual        Bronce                   160   \n",
      "2                  Mensual        Bronce                    44   \n",
      "3                  Mensual        Bronce                    44   \n",
      "4                  Mensual        Bronce                    94   \n",
      "\n",
      "  nombre_producto categoria precio_unitario       banco comision  \n",
      "0      Producto C      Ropa           50.28  Scotiabank    0.019  \n",
      "1      Producto C      Ropa           50.28  Scotiabank    0.019  \n",
      "2      Producto B   Muebles           44.00  Scotiabank    0.019  \n",
      "3      Producto B   Muebles           44.00  Scotiabank    0.019  \n",
      "4      Producto D      Ropa           11.13         BCP    0.015  \n",
      "\n",
      "[5 rows x 59 columns] \n",
      "\n"
     ]
    }
   ],
   "source": [
    "print(\"== Paso 2: Transformación de datos ==\")\n",
    "\n",
    "# 1. Unir tablas de SQLite\n",
    "transaccion_completa = pd.merge(transaccion_df, detalle_transaccion_df, left_on='id_transaccion', right_on='id_transaccion')\n",
    "transaccion_completa = pd.merge(transaccion_completa, comercio_df, left_on='id_comercio', right_on='id_comercio')\n",
    "transaccion_completa = pd.merge(transaccion_completa, producto_df, left_on='id_producto', right_on='id_producto', suffixes=('_comercio', '_producto'))\n",
    "\n",
    "# Imprimir encabezados después de la unión\n",
    "print(\"Encabezados después de unir Transacción y Detalle:\")\n",
    "print(transaccion_completa.head(), \"\\n\")\n",
    "\n",
    "# 2. Agregar información de tarifas bancarias\n",
    "transaccion_completa = pd.merge(\n",
    "    transaccion_completa, \n",
    "    tarifas_bancarias, \n",
    "    how='left', \n",
    "    left_on=['banco_emisor', 'tipo_tarjeta'], \n",
    "    right_on=['banco', 'tipo_tarjeta']\n",
    ")\n",
    "\n",
    "# Imprimir encabezados después de agregar tarifas bancarias\n",
    "print(\"Encabezados después de agregar tarifas bancarias:\")\n",
    "print(transaccion_completa.head(), \"\\n\")"
   ]
  },
  {
   "cell_type": "markdown",
   "metadata": {},
   "source": [
    "# 3. Agregar información de días festivos"
   ]
  },
  {
   "cell_type": "code",
   "execution_count": 13,
   "metadata": {},
   "outputs": [
    {
     "name": "stdout",
     "output_type": "stream",
     "text": [
      "Encabezados después de agregar días festivos:\n",
      "   id_transaccion  id_comercio_comercio          fecha_transaccion  \\\n",
      "0             201                     1 2024-05-24 00:30:59.391416   \n",
      "1             201                     1 2024-05-24 00:30:59.391416   \n",
      "2             202                     1 2024-07-21 00:30:59.391416   \n",
      "3             202                     1 2024-07-21 00:30:59.391416   \n",
      "4             204                     1 2024-03-07 00:30:59.391416   \n",
      "\n",
      "  tipo_operacion id_operacion     estado    monto moneda  id_producto  \\\n",
      "0          Venta          1_1  Rechazado   175.91  Soles          808   \n",
      "1          Venta          1_1  Rechazado   175.91  Soles          808   \n",
      "2          Venta          1_2  Rechazado  1268.25  Soles          227   \n",
      "3          Venta          1_2  Rechazado  1268.25  Soles          227   \n",
      "4          Venta          1_4  Rechazado   252.90  Soles          479   \n",
      "\n",
      "  motivo_venta_observada  ... nivel_lealtad id_comercio_producto  \\\n",
      "0      Sin observaciones  ...        Bronce                  160   \n",
      "1      Sin observaciones  ...        Bronce                  160   \n",
      "2      Sin observaciones  ...        Bronce                   44   \n",
      "3      Sin observaciones  ...        Bronce                   44   \n",
      "4                         ...        Bronce                   94   \n",
      "\n",
      "  nombre_producto categoria  precio_unitario       banco comision fecha  \\\n",
      "0      Producto C      Ropa            50.28  Scotiabank    0.019   NaT   \n",
      "1      Producto C      Ropa            50.28  Scotiabank    0.019   NaT   \n",
      "2      Producto B   Muebles            44.00  Scotiabank    0.019   NaT   \n",
      "3      Producto B   Muebles            44.00  Scotiabank    0.019   NaT   \n",
      "4      Producto D      Ropa            11.13         BCP    0.015   NaT   \n",
      "\n",
      "  descripcion es_dia_festivo  \n",
      "0         NaN          False  \n",
      "1         NaN          False  \n",
      "2         NaN          False  \n",
      "3         NaN          False  \n",
      "4         NaN          False  \n",
      "\n",
      "[5 rows x 62 columns] \n",
      "\n"
     ]
    }
   ],
   "source": [
    "transaccion_completa['fecha_transaccion'] = pd.to_datetime(transaccion_completa['fecha_transaccion'])\n",
    "dias_festivos['fecha'] = pd.to_datetime(dias_festivos['fecha'])\n",
    "transaccion_completa = pd.merge(\n",
    "    transaccion_completa, \n",
    "    dias_festivos, \n",
    "    how='left', \n",
    "    left_on='fecha_transaccion', \n",
    "    right_on='fecha'\n",
    ")\n",
    "transaccion_completa['es_dia_festivo'] = ~transaccion_completa['descripcion'].isna()\n",
    "\n",
    "# Imprimir encabezados después de agregar días festivos\n",
    "print(\"Encabezados después de agregar días festivos:\")\n",
    "print(transaccion_completa.head(), \"\\n\")"
   ]
  },
  {
   "cell_type": "markdown",
   "metadata": {},
   "source": [
    "# 4. Calcular comisiones bancarias aplicadas"
   ]
  },
  {
   "cell_type": "code",
   "execution_count": 14,
   "metadata": {},
   "outputs": [],
   "source": [
    "transaccion_completa['comision_aplicada'] = transaccion_completa['monto'] * transaccion_completa['comision']\n"
   ]
  },
  {
   "cell_type": "markdown",
   "metadata": {},
   "source": [
    "# 5. Agregar columnas adicionales"
   ]
  },
  {
   "cell_type": "code",
   "execution_count": 15,
   "metadata": {},
   "outputs": [
    {
     "name": "stdout",
     "output_type": "stream",
     "text": [
      "Encabezados después de cálculos adicionales:\n",
      "   id_transaccion  id_comercio_comercio          fecha_transaccion  \\\n",
      "0             201                     1 2024-05-24 00:30:59.391416   \n",
      "1             201                     1 2024-05-24 00:30:59.391416   \n",
      "2             202                     1 2024-07-21 00:30:59.391416   \n",
      "3             202                     1 2024-07-21 00:30:59.391416   \n",
      "4             204                     1 2024-03-07 00:30:59.391416   \n",
      "\n",
      "  tipo_operacion id_operacion     estado    monto moneda  id_producto  \\\n",
      "0          Venta          1_1  Rechazado   175.91  Soles          808   \n",
      "1          Venta          1_1  Rechazado   175.91  Soles          808   \n",
      "2          Venta          1_2  Rechazado  1268.25  Soles          227   \n",
      "3          Venta          1_2  Rechazado  1268.25  Soles          227   \n",
      "4          Venta          1_4  Rechazado   252.90  Soles          479   \n",
      "\n",
      "  motivo_venta_observada  ... nombre_producto categoria precio_unitario  \\\n",
      "0      Sin observaciones  ...      Producto C      Ropa           50.28   \n",
      "1      Sin observaciones  ...      Producto C      Ropa           50.28   \n",
      "2      Sin observaciones  ...      Producto B   Muebles           44.00   \n",
      "3      Sin observaciones  ...      Producto B   Muebles           44.00   \n",
      "4                         ...      Producto D      Ropa           11.13   \n",
      "\n",
      "        banco  comision fecha descripcion es_dia_festivo comision_aplicada  \\\n",
      "0  Scotiabank     0.019   NaT         NaN          False           3.34229   \n",
      "1  Scotiabank     0.019   NaT         NaN          False           3.34229   \n",
      "2  Scotiabank     0.019   NaT         NaN          False          24.09675   \n",
      "3  Scotiabank     0.019   NaT         NaN          False          24.09675   \n",
      "4         BCP     0.015   NaT         NaN          False           3.79350   \n",
      "\n",
      "  DayOfMonth  \n",
      "0         24  \n",
      "1         24  \n",
      "2         21  \n",
      "3         21  \n",
      "4          7  \n",
      "\n",
      "[5 rows x 64 columns] \n",
      "\n",
      "== Paso 3: Carga de datos ==\n",
      "Archivo consolidado guardado localmente como C:/Users/alarc/Desktop/DataMining/ETL/reporte_consolidado-2024-11-27-16_59.csv.\n",
      "\n",
      "Subiendo C:/Users/alarc/Desktop/DataMining/ETL/reporte_consolidado-2024-11-27-16_59.csv a /data/sftp/reporte_consolidado-reporte_consolidado-2024-11-27-16_59.csv...\n",
      "Archivo subido con éxito.\n"
     ]
    }
   ],
   "source": [
    "\n",
    "transaccion_completa['DayOfMonth'] = transaccion_completa['fecha_transaccion'].dt.day\n",
    "\n",
    "# Imprimir encabezados después de agregar cálculos adicionales\n",
    "print(\"Encabezados después de cálculos adicionales:\")\n",
    "print(transaccion_completa.head(), \"\\n\")\n",
    "\n",
    "# Paso 3: Carga de datos\n",
    "print(\"== Paso 3: Carga de datos ==\")\n",
    "\n",
    "# Guardar el resultado consolidado\n",
    "transaccion_completa.to_csv(LOCAL_PATH, index=False)\n",
    "print(f\"Archivo consolidado guardado localmente como {LOCAL_PATH}.\\n\")\n",
    "\n",
    "# Subir el archivo al servidor SFTP\n",
    "try:\n",
    "    # Verificar si el archivo local existe\n",
    "    if not os.path.exists(LOCAL_PATH):\n",
    "        print(f\"Error: El archivo '{LOCAL_PATH}' no existe.\")\n",
    "        exit()\n",
    "\n",
    "    # Crear conexión SFTP\n",
    "    private_key = paramiko.RSAKey.from_private_key_file(SFTP_PRIVATE_KEY)\n",
    "    transport = paramiko.Transport((SFTP_HOST, SFTP_PORT))\n",
    "    transport.connect(username=SFTP_USER, pkey=private_key)\n",
    "    sftp = paramiko.SFTPClient.from_transport(transport)\n",
    "\n",
    "    # Subir el archivo\n",
    "    print(f\"Subiendo {LOCAL_PATH} a {REMOTE_PATH}...\")\n",
    "    sftp.put(LOCAL_PATH, REMOTE_PATH)\n",
    "    print(\"Archivo subido con éxito.\")\n",
    "\n",
    "    # Cerrar la conexión\n",
    "    sftp.close()\n",
    "    transport.close()\n",
    "except FileNotFoundError as e:\n",
    "    print(f\"Error: Archivo no encontrado. {e}\")\n",
    "except paramiko.SSHException as e:\n",
    "    print(f\"Error SSH: {e}\")\n",
    "except Exception as e:\n",
    "    print(f\"Error al subir el archivo al servidor SFTP: {e}\")"
   ]
  },
  {
   "cell_type": "markdown",
   "metadata": {},
   "source": [
    "# REPORT DEL AREA DE ATENCION A LOS ERRORES"
   ]
  },
  {
   "cell_type": "code",
   "execution_count": 18,
   "metadata": {},
   "outputs": [
    {
     "name": "stdout",
     "output_type": "stream",
     "text": [
      "Iniciando la extracción de datos...\n",
      "Datos extraídos exitosamente.\n",
      "Transformando los datos...\n",
      "Archivos generados: tickets_online_2024-11-27_17-02-51.csv y tickets_offline_2024-11-27_17-02-51.csv\n",
      "Cargando los datos...\n",
      "Subiendo tickets_online_2024-11-27_17-02-51.csv a /data/sftp/reportes-tickets/online/tickets_online_2024-11-27_17-02-51.csv...\n",
      "Archivo de tickets online subido con éxito.\n",
      "Subiendo tickets_offline_2024-11-27_17-02-51.csv a /data/sftp/reportes-tickets/offline/tickets_offline_2024-11-27_17-02-51.csv...\n",
      "Archivo de tickets offline subido con éxito.\n"
     ]
    }
   ],
   "source": [
    "import paramiko\n",
    "import os\n",
    "import requests\n",
    "import pandas as pd\n",
    "import json\n",
    "from datetime import datetime\n",
    "\n",
    "def etl_process(endpoint_url):\n",
    "    # Generar timestamp para los nombres de los archivos\n",
    "    timestamp = datetime.now().strftime(\"%Y-%m-%d_%H-%M-%S\")\n",
    "    ONLINE_TICKETS = f\"tickets_online_{timestamp}.csv\"\n",
    "    OFFLINE_TICKETS = f\"tickets_offline_{timestamp}.csv\"\n",
    "    REMOTE_ONLINE_TICKETS = f\"/data/sftp/reportes-tickets/online/{ONLINE_TICKETS}\"\n",
    "    REMOTE_OFFLINE_TICKETS = f\"/data/sftp/reportes-tickets/offline/{OFFLINE_TICKETS}\"\n",
    "\n",
    "    print(\"Iniciando la extracción de datos...\")\n",
    "    response = requests.get(endpoint_url)\n",
    "    if response.status_code == 200:\n",
    "        data = response.json()\n",
    "        print(\"Datos extraídos exitosamente.\")\n",
    "    else:\n",
    "        print(f\"Error al extraer los datos: {response.status_code}\")\n",
    "        return\n",
    "\n",
    "    print(\"Transformando los datos...\")\n",
    "    tickets = data[\"tickets\"]\n",
    "    df_tickets = pd.DataFrame(tickets)\n",
    "\n",
    "    # Filtrar datos para productos online y offline\n",
    "    online_tickets = df_tickets[df_tickets[\"product\"].str.lower().isin([\"Online\"])]\n",
    "    offline_tickets = df_tickets[df_tickets[\"product\"].str.lower().isin([\"Offline\"])]\n",
    "\n",
    "    # Guardar los DataFrames en archivos CSV separados\n",
    "    online_tickets.to_csv(ONLINE_TICKETS, index=False)\n",
    "    offline_tickets.to_csv(OFFLINE_TICKETS, index=False)\n",
    "    print(f\"Archivos generados: {ONLINE_TICKETS} y {OFFLINE_TICKETS}\")\n",
    "\n",
    "    print(\"Cargando los datos...\")\n",
    "    try:\n",
    "        private_key = paramiko.RSAKey.from_private_key_file(SFTP_PRIVATE_KEY)\n",
    "        transport = paramiko.Transport((SFTP_HOST, SFTP_PORT))\n",
    "        transport.connect(username=SFTP_USER, pkey=private_key)\n",
    "        sftp = paramiko.SFTPClient.from_transport(transport)\n",
    "\n",
    "        # Subir el archivo de tickets online\n",
    "        print(f\"Subiendo {ONLINE_TICKETS} a {REMOTE_ONLINE_TICKETS}...\")\n",
    "        sftp.put(ONLINE_TICKETS, REMOTE_ONLINE_TICKETS)\n",
    "        print(\"Archivo de tickets online subido con éxito.\")\n",
    "\n",
    "        # Subir el archivo de tickets offline\n",
    "        print(f\"Subiendo {OFFLINE_TICKETS} a {REMOTE_OFFLINE_TICKETS}...\")\n",
    "        sftp.put(OFFLINE_TICKETS, REMOTE_OFFLINE_TICKETS)\n",
    "        print(\"Archivo de tickets offline subido con éxito.\")\n",
    "\n",
    "        # Cerrar la conexión\n",
    "        sftp.close()\n",
    "        transport.close()\n",
    "    except Exception as e:\n",
    "        print(f\"Error al subir los archivos al servidor SFTP: {e}\")\n",
    "        raise\n",
    "\n",
    "# Ejecutar el ETL\n",
    "etl_process(\"https://run.mocky.io/v3/d1bb9814-eb15-4af6-9a81-917ac7293686\")\n"
   ]
  },
  {
   "cell_type": "markdown",
   "metadata": {},
   "source": [
    "# Descargar archivo del servidor SFTP"
   ]
  },
  {
   "cell_type": "code",
   "execution_count": null,
   "metadata": {},
   "outputs": [
    {
     "name": "stdout",
     "output_type": "stream",
     "text": [
      "Iniciando la extracción de datos...\n",
      "Datos extraídos exitosamente.\n",
      "Transformando los datos...\n",
      "Cargando los datos...\n",
      "Archivos en el directorio remoto:\n",
      "[]\n",
      "Subiendo tickets_transformed_2024-11-27_10-57-25.csv a /data/sftp/reportes-tickets/tickets_transformed_2024-11-27_10-57-25.csv...\n",
      "Archivo subido con éxito.\n"
     ]
    }
   ],
   "source": [
    "import paramiko\n",
    "import os\n",
    "from datetime import datetime\n",
    "\n",
    "\n",
    "LOCAL_DIR = os.getenv('RUTA')\n",
    "REMOTE_DIR = '/data/sftp/'\n",
    "\n",
    "try:\n",
    "    # Crear conexión SFTP\n",
    "    private_key = paramiko.RSAKey.from_private_key_file(SFTP_PRIVATE_KEY)\n",
    "    transport = paramiko.Transport((SFTP_HOST, SFTP_PORT))\n",
    "    transport.connect(username=SFTP_USER, pkey=private_key)\n",
    "    sftp = paramiko.SFTPClient.from_transport(transport)\n",
    "\n",
    "    # Listar archivos en el directorio remoto\n",
    "    print(f\"Conectando al servidor SFTP en {REMOTE_DIR}...\")\n",
    "    files = sftp.listdir_attr(REMOTE_DIR)\n",
    "    \n",
    "    # Buscar el archivo más reciente\n",
    "    latest_file = None\n",
    "    latest_time = None\n",
    "    for file in files:\n",
    "        if file.filename.endswith('.csv'):  # Solo considerar archivos .csv\n",
    "            file_time = file.st_mtime  # Tiempo de modificación\n",
    "            if latest_time is None or file_time > latest_time:\n",
    "                latest_time = file_time\n",
    "                latest_file = file\n",
    "\n",
    "    if latest_file:\n",
    "        # Descargar el archivo más reciente\n",
    "        remote_file_path = REMOTE_DIR + latest_file.filename\n",
    "        local_file_path = os.path.join(LOCAL_DIR, latest_file.filename)\n",
    "        print(f\"Descargando el archivo más reciente: {latest_file.filename}\")\n",
    "        sftp.get(remote_file_path, local_file_path)\n",
    "        print(f\"Archivo descargado con éxito: {local_file_path}\")\n",
    "    else:\n",
    "        print(\"No se encontraron archivos .csv en el directorio remoto.\")\n",
    "\n",
    "    # Cerrar la conexión\n",
    "    sftp.close()\n",
    "    transport.close()\n",
    "except FileNotFoundError as e:\n",
    "    print(f\"Error: Archivo no encontrado. {e}\")\n",
    "except paramiko.SSHException as e:\n",
    "    print(f\"Error SSH: {e}\")\n",
    "except Exception as e:\n",
    "    print(f\"Error: {e}\")\n"
   ]
  }
 ],
 "metadata": {
  "kernelspec": {
   "display_name": "venv",
   "language": "python",
   "name": "python3"
  },
  "language_info": {
   "codemirror_mode": {
    "name": "ipython",
    "version": 3
   },
   "file_extension": ".py",
   "mimetype": "text/x-python",
   "name": "python",
   "nbconvert_exporter": "python",
   "pygments_lexer": "ipython3",
   "version": "3.12.7"
  }
 },
 "nbformat": 4,
 "nbformat_minor": 2
}
